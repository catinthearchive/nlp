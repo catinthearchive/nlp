{
  "nbformat": 4,
  "nbformat_minor": 0,
  "metadata": {
    "colab": {
      "provenance": [],
      "authorship_tag": "ABX9TyPwAlGKKwq76n6ErnL5FA9Q",
      "include_colab_link": true
    },
    "kernelspec": {
      "name": "python3",
      "display_name": "Python 3"
    },
    "language_info": {
      "name": "python"
    }
  },
  "cells": [
    {
      "cell_type": "markdown",
      "metadata": {
        "id": "view-in-github",
        "colab_type": "text"
      },
      "source": [
        "<a href=\"https://colab.research.google.com/github/catinthearchive/nlp/blob/main/nlpstudy.ipynb\" target=\"_parent\"><img src=\"https://colab.research.google.com/assets/colab-badge.svg\" alt=\"Open In Colab\"/></a>"
      ]
    },
    {
      "cell_type": "code",
      "execution_count": 8,
      "metadata": {
        "id": "wQpafPrzZ7pn",
        "colab": {
          "base_uri": "https://localhost:8080/"
        },
        "outputId": "e58d85c9-09a2-470b-c9a9-8b39cb828de2"
      },
      "outputs": [
        {
          "output_type": "stream",
          "name": "stdout",
          "text": [
            "8\n",
            "['kitchen', 'bathroom', 'livingroom', 'bedroom']\n"
          ]
        },
        {
          "output_type": "execute_result",
          "data": {
            "text/plain": [
              "bool"
            ]
          },
          "metadata": {},
          "execution_count": 8
        }
      ],
      "source": [
        "# 샵은 메모기능, 파이썬에서는 각 type이 서로 다른 기능을 가짐\n",
        "# type 복습\n",
        "print (3 + 5)\n",
        "\n",
        "# list 하나 만들어볼까?\n",
        "house = [\"kitchen\", \"bathroom\", \"livingroom\", \"bedroom\"]\n",
        "print(house)\n",
        "\n",
        "jaerong=130\n",
        "type(jaerong)\n",
        "\n",
        "type(jaerong>150)"
      ]
    }
  ]
}