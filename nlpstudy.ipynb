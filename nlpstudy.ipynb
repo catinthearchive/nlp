{
  "nbformat": 4,
  "nbformat_minor": 0,
  "metadata": {
    "colab": {
      "provenance": [],
      "authorship_tag": "ABX9TyOUlJO5IrbGPf5qIxRBdLya",
      "include_colab_link": true
    },
    "kernelspec": {
      "name": "python3",
      "display_name": "Python 3"
    },
    "language_info": {
      "name": "python"
    }
  },
  "cells": [
    {
      "cell_type": "markdown",
      "metadata": {
        "id": "view-in-github",
        "colab_type": "text"
      },
      "source": [
        "<a href=\"https://colab.research.google.com/github/catinthearchive/nlp/blob/main/nlpstudy.ipynb\" target=\"_parent\"><img src=\"https://colab.research.google.com/assets/colab-badge.svg\" alt=\"Open In Colab\"/></a>"
      ]
    },
    {
      "cell_type": "code",
      "execution_count": null,
      "metadata": {
        "id": "wQpafPrzZ7pn",
        "colab": {
          "base_uri": "https://localhost:8080/"
        },
        "outputId": "e58d85c9-09a2-470b-c9a9-8b39cb828de2"
      },
      "outputs": [
        {
          "output_type": "stream",
          "name": "stdout",
          "text": [
            "8\n",
            "['kitchen', 'bathroom', 'livingroom', 'bedroom']\n"
          ]
        },
        {
          "output_type": "execute_result",
          "data": {
            "text/plain": [
              "bool"
            ]
          },
          "metadata": {},
          "execution_count": 8
        }
      ],
      "source": [
        "# 샵은 메모기능, 파이썬에서는 각 type이 서로 다른 기능을 가짐\n",
        "# type 복습\n",
        "print (3 + 5)\n",
        "\n",
        "# list 하나 만들어볼까?\n",
        "house = [\"kitchen\", \"bathroom\", \"livingroom\", \"bedroom\"]\n",
        "print(house)\n",
        "\n",
        "jaerong=130\n",
        "type(jaerong)\n",
        "\n",
        "type(jaerong>150)"
      ]
    },
    {
      "cell_type": "code",
      "source": [
        "house = [\"kitchen\", 1, \"bathroom\", 2, \"livingroom\", 3, \"bedroom\", 4]\n",
        "print(house[2], house[4])\n",
        "\n",
        "house_1 = house[:]\n",
        "house[3]=\"toilet\"\n",
        "\n",
        "print(house_1)"
      ],
      "metadata": {
        "colab": {
          "base_uri": "https://localhost:8080/"
        },
        "id": "T68fA63p-ELu",
        "outputId": "71d9a317-63d0-4424-c34f-0313ffe190cf"
      },
      "execution_count": null,
      "outputs": [
        {
          "output_type": "stream",
          "name": "stdout",
          "text": [
            "bathroom livingroom\n",
            "['kitchen', 1, 'bathroom', 2, 'livingroom', 3, 'bedroom', 4]\n"
          ]
        }
      ]
    },
    {
      "cell_type": "code",
      "source": [
        "# Create lists first and second\n",
        "first = [11.25, 18.0, 20.0]\n",
        "second = [10.75, 9.50]\n",
        "\n",
        "# Paste together first and second: full\n",
        "full = first + second\n",
        "\n",
        "\n",
        "sorted(full, reverse=reverse)\n",
        "\n",
        "print(full)\n",
        "\n",
        "print(full.reverse)"
      ],
      "metadata": {
        "colab": {
          "base_uri": "https://localhost:8080/"
        },
        "id": "Q8ShaQv25tTW",
        "outputId": "f0b05898-7f77-45a8-fd36-e93de0dd291f"
      },
      "execution_count": 45,
      "outputs": [
        {
          "output_type": "stream",
          "name": "stdout",
          "text": [
            "[11.25, 18.0, 20.0, 10.75, 9.5]\n",
            "<built-in method reverse of list object at 0x7bdd702f4380>\n"
          ]
        }
      ]
    },
    {
      "cell_type": "code",
      "source": [
        "# Create lists first and second\n",
        "first = [11.25, 18.0, 20.0]\n",
        "second = [10.75, 9.50]\n",
        "\n",
        "# Paste together first and second: full\n",
        "full = first + second\n",
        "\n",
        "full.reverse()\n",
        "\n",
        "print(full)\n"
      ],
      "metadata": {
        "colab": {
          "base_uri": "https://localhost:8080/"
        },
        "id": "uhENCSh2RO0j",
        "outputId": "10107b18-ac37-4aaa-d676-0f1a5de0262e"
      },
      "execution_count": 54,
      "outputs": [
        {
          "output_type": "stream",
          "name": "stdout",
          "text": [
            "[9.5, 10.75, 20.0, 18.0, 11.25]\n"
          ]
        }
      ]
    },
    {
      "cell_type": "code",
      "source": [
        "# string to experiment with: place\n",
        "place = \"poolhouse\"\n",
        "\n",
        "# Use upper() on place\n",
        "place_up = place.upper()\n",
        "\n",
        "# Print out place and place_up\n",
        "print(place)\n",
        "print(place_up)"
      ],
      "metadata": {
        "colab": {
          "base_uri": "https://localhost:8080/"
        },
        "id": "yjE4RhkYPH6a",
        "outputId": "ce0218e8-f922-4fc6-ac94-d9b1af5d89fb"
      },
      "execution_count": 41,
      "outputs": [
        {
          "output_type": "stream",
          "name": "stdout",
          "text": [
            "poolhouse\n",
            "POOLHOUSE\n"
          ]
        }
      ]
    },
    {
      "cell_type": "code",
      "source": [
        "import math\n",
        "\n",
        "C = 2 * 0.43 * math.pi\n",
        "\n",
        "print(C)"
      ],
      "metadata": {
        "colab": {
          "base_uri": "https://localhost:8080/"
        },
        "id": "eHDeyD4tUwpN",
        "outputId": "5fc5f176-0fd9-4378-faf0-fdd121731eb0"
      },
      "execution_count": 57,
      "outputs": [
        {
          "output_type": "stream",
          "name": "stdout",
          "text": [
            "2.701769682087222\n"
          ]
        }
      ]
    },
    {
      "cell_type": "code",
      "source": [
        "from math import pi as cv\n",
        "\n",
        "C = 2 * 0.43 * cv\n",
        "\n",
        "print(C)"
      ],
      "metadata": {
        "colab": {
          "base_uri": "https://localhost:8080/"
        },
        "id": "OsQrVixCVRyj",
        "outputId": "1416283f-75ab-499d-e86a-0f4dd9b031b1"
      },
      "execution_count": 67,
      "outputs": [
        {
          "output_type": "stream",
          "name": "stdout",
          "text": [
            "2.701769682087222\n"
          ]
        }
      ]
    }
  ]
}