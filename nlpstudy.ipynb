{
  "nbformat": 4,
  "nbformat_minor": 0,
  "metadata": {
    "colab": {
      "provenance": [],
      "mount_file_id": "1sHYFT1D5tRhvP5jBx-aXrgsHOHk84O3L",
      "authorship_tag": "ABX9TyMMqSDoxDr4DSBdzN0EShta",
      "include_colab_link": true
    },
    "kernelspec": {
      "name": "python3",
      "display_name": "Python 3"
    },
    "language_info": {
      "name": "python"
    }
  },
  "cells": [
    {
      "cell_type": "markdown",
      "metadata": {
        "id": "view-in-github",
        "colab_type": "text"
      },
      "source": [
        "<a href=\"https://colab.research.google.com/github/catinthearchive/nlp/blob/main/nlpstudy.ipynb\" target=\"_parent\"><img src=\"https://colab.research.google.com/assets/colab-badge.svg\" alt=\"Open In Colab\"/></a>"
      ]
    },
    {
      "cell_type": "code",
      "execution_count": null,
      "metadata": {
        "id": "wQpafPrzZ7pn",
        "colab": {
          "base_uri": "https://localhost:8080/"
        },
        "outputId": "6978b749-a56d-4897-8b51-31d392a6dbdd"
      },
      "outputs": [
        {
          "output_type": "stream",
          "name": "stdout",
          "text": [
            "8\n",
            "['kitchen', 'bathroom', 'livingroom', 'bedroom']\n"
          ]
        },
        {
          "output_type": "execute_result",
          "data": {
            "text/plain": [
              "bool"
            ]
          },
          "metadata": {},
          "execution_count": 1
        }
      ],
      "source": [
        "# 샵은 메모기능, 파이썬에서는 각 type이 서로 다른 기능을 가짐\n",
        "# type 복습\n",
        "print (3 + 5)\n",
        "\n",
        "# list 하나 만들어볼까?\n",
        "house = [\"kitchen\", \"bathroom\", \"livingroom\", \"bedroom\"]\n",
        "print(house)\n",
        "\n",
        "jaerong=130\n",
        "type(jaerong)\n",
        "\n",
        "type(jaerong>150)"
      ]
    },
    {
      "cell_type": "code",
      "source": [
        "house = [\"kitchen\", 1, \"bathroom\", 2, \"livingroom\", 3, \"bedroom\", 4]\n",
        "print(house[2], house[4])\n",
        "\n",
        "house_1 = house[:]\n",
        "house[3]=\"toilet\"\n",
        "\n",
        "print(house_1)"
      ],
      "metadata": {
        "colab": {
          "base_uri": "https://localhost:8080/"
        },
        "id": "T68fA63p-ELu",
        "outputId": "71d9a317-63d0-4424-c34f-0313ffe190cf"
      },
      "execution_count": null,
      "outputs": [
        {
          "output_type": "stream",
          "name": "stdout",
          "text": [
            "bathroom livingroom\n",
            "['kitchen', 1, 'bathroom', 2, 'livingroom', 3, 'bedroom', 4]\n"
          ]
        }
      ]
    },
    {
      "cell_type": "code",
      "source": [
        "# Create lists first and second\n",
        "first = [11.25, 18.0, 20.0]\n",
        "second = [10.75, 9.50]\n",
        "\n",
        "# Paste together first and second: full\n",
        "full = first + second\n",
        "\n",
        "reverse = True\n",
        "sorted(full, reverse = reverse)\n"
      ],
      "metadata": {
        "colab": {
          "base_uri": "https://localhost:8080/"
        },
        "id": "Q8ShaQv25tTW",
        "outputId": "30226bf6-4a64-465c-9fd9-43bf1867b847"
      },
      "execution_count": null,
      "outputs": [
        {
          "output_type": "execute_result",
          "data": {
            "text/plain": [
              "[20.0, 18.0, 11.25, 10.75, 9.5]"
            ]
          },
          "metadata": {},
          "execution_count": 5
        }
      ]
    },
    {
      "cell_type": "code",
      "source": [
        "# Create lists first and second\n",
        "first = [11.25, 18.0, 20.0]\n",
        "second = [10.75, 9.50]\n",
        "\n",
        "# Paste together first and second: full\n",
        "full = first + second\n",
        "\n",
        "full.reverse()\n",
        "\n",
        "print(full)\n"
      ],
      "metadata": {
        "colab": {
          "base_uri": "https://localhost:8080/"
        },
        "id": "uhENCSh2RO0j",
        "outputId": "10107b18-ac37-4aaa-d676-0f1a5de0262e"
      },
      "execution_count": null,
      "outputs": [
        {
          "output_type": "stream",
          "name": "stdout",
          "text": [
            "[9.5, 10.75, 20.0, 18.0, 11.25]\n"
          ]
        }
      ]
    },
    {
      "cell_type": "code",
      "source": [
        "# Create lists first and second\n",
        "first = [11.25, 18.0, 20.0]\n",
        "second = [10.75, 9.50]\n",
        "\n",
        "# Paste together first and second: full\n",
        "full = first + second\n",
        "\n",
        "full.reverse()\n",
        "\n",
        "print(full)\n"
      ],
      "metadata": {
        "colab": {
          "base_uri": "https://localhost:8080/"
        },
        "id": "brqN9bf-h4uW",
        "outputId": "b704d416-7ab1-4fa1-c1ac-9208e4ee78fa"
      },
      "execution_count": null,
      "outputs": [
        {
          "output_type": "stream",
          "name": "stdout",
          "text": [
            "[9.5, 10.75, 20.0, 18.0, 11.25]\n"
          ]
        }
      ]
    },
    {
      "cell_type": "code",
      "source": [
        "# string to experiment with: place\n",
        "place = \"poolhouse\"\n",
        "\n",
        "# Use upper() on place\n",
        "place_up = place.upper()\n",
        "\n",
        "# Print out place and place_up\n",
        "print(place)\n",
        "print(place_up)"
      ],
      "metadata": {
        "colab": {
          "base_uri": "https://localhost:8080/"
        },
        "id": "yjE4RhkYPH6a",
        "outputId": "ce0218e8-f922-4fc6-ac94-d9b1af5d89fb"
      },
      "execution_count": null,
      "outputs": [
        {
          "output_type": "stream",
          "name": "stdout",
          "text": [
            "poolhouse\n",
            "POOLHOUSE\n"
          ]
        }
      ]
    },
    {
      "cell_type": "code",
      "source": [
        "import math\n",
        "\n",
        "C = 2 * 0.43 * math.pi\n",
        "\n",
        "print(C)"
      ],
      "metadata": {
        "colab": {
          "base_uri": "https://localhost:8080/"
        },
        "id": "eHDeyD4tUwpN",
        "outputId": "5fc5f176-0fd9-4378-faf0-fdd121731eb0"
      },
      "execution_count": null,
      "outputs": [
        {
          "output_type": "stream",
          "name": "stdout",
          "text": [
            "2.701769682087222\n"
          ]
        }
      ]
    },
    {
      "cell_type": "code",
      "source": [
        "from math import pi as cv\n",
        "\n",
        "C = 2 * 0.43 * cv\n",
        "\n",
        "print(C)"
      ],
      "metadata": {
        "colab": {
          "base_uri": "https://localhost:8080/"
        },
        "id": "OsQrVixCVRyj",
        "outputId": "1416283f-75ab-499d-e86a-0f4dd9b031b1"
      },
      "execution_count": null,
      "outputs": [
        {
          "output_type": "stream",
          "name": "stdout",
          "text": [
            "2.701769682087222\n"
          ]
        }
      ]
    },
    {
      "cell_type": "code",
      "source": [
        "import numpy as np\n",
        "\n",
        "family = np.array([[163.2, 158.4, 158.4, 169.5],\n",
        "                   [63, 51, 63, 57]])\n",
        "\n",
        "\n",
        "np.mean(family)"
      ],
      "metadata": {
        "colab": {
          "base_uri": "https://localhost:8080/"
        },
        "id": "ZH8rZtO8nPl2",
        "outputId": "2c1cab3e-2dab-44f3-8ec8-3617aa7fc371"
      },
      "execution_count": null,
      "outputs": [
        {
          "output_type": "execute_result",
          "data": {
            "text/plain": [
              "110.4375"
            ]
          },
          "metadata": {},
          "execution_count": 20
        }
      ]
    },
    {
      "cell_type": "code",
      "source": [],
      "metadata": {
        "id": "Y4wgWbA1T0Wp"
      },
      "execution_count": null,
      "outputs": []
    },
    {
      "cell_type": "code",
      "source": [
        "import numpy as np\n",
        "\n",
        "family = np.array([[163.2, 158.4, 158.4, 169.5],\n",
        "                   [63, 51, 63, 57]])\n",
        "\n",
        "np.mean(family[0,:], family[1,:]) < # 이렇게 하면 안됨\n",
        "\n",
        "\n",
        "np.mean(family[0,:]), np.mean(family[1,:])"
      ],
      "metadata": {
        "colab": {
          "base_uri": "https://localhost:8080/",
          "height": 108
        },
        "id": "g5FZKThJsYRX",
        "outputId": "f668fc8e-c47d-4fe6-cbfe-f4b91973115f"
      },
      "execution_count": null,
      "outputs": [
        {
          "output_type": "error",
          "ename": "SyntaxError",
          "evalue": "invalid syntax (<ipython-input-37-8f11bd539eed>, line 7)",
          "traceback": [
            "\u001b[0;36m  File \u001b[0;32m\"<ipython-input-37-8f11bd539eed>\"\u001b[0;36m, line \u001b[0;32m7\u001b[0m\n\u001b[0;31m    np.mean(family[0,:], family[1,:]) < # 이렇게 하면 안됨\u001b[0m\n\u001b[0m                                        ^\u001b[0m\n\u001b[0;31mSyntaxError\u001b[0m\u001b[0;31m:\u001b[0m invalid syntax\n"
          ]
        }
      ]
    },
    {
      "cell_type": "code",
      "source": [
        "import numpy as np\n",
        "\n",
        "family = np.array([[163.2, 158.4, 158.4, 169.5],\n",
        "                   [63, 51, 63, 57]])\n",
        "\n",
        "np.mean(family[0,:]), np.mean(family[1,:])"
      ],
      "metadata": {
        "id": "jz6r6g9itdS-",
        "outputId": "0ade2bc1-1dab-44cc-bacc-fa291dd702f7",
        "colab": {
          "base_uri": "https://localhost:8080/"
        }
      },
      "execution_count": null,
      "outputs": [
        {
          "output_type": "execute_result",
          "data": {
            "text/plain": [
              "(162.375, 58.5)"
            ]
          },
          "metadata": {},
          "execution_count": 38
        }
      ]
    },
    {
      "cell_type": "code",
      "source": [
        "# function: 파이썬 내 있는 built-in functions ex)print(), type(), len(), max()\n",
        "# methods: 각 type에 따라 쓸 수 있는 기능들 ex)list의 index > 리스트이름.index 처럼 '해당 타입.method' 형식 > methods에는 뒤에 '()' 붙이자\n",
        "\n",
        "text = \"Today was a good day.\"\n",
        "\n",
        "from textblob import TextBlob\n",
        "\n",
        "my_valence = TextBlob(text)\n",
        "my_valence.sentiment\n"
      ],
      "metadata": {
        "colab": {
          "base_uri": "https://localhost:8080/"
        },
        "id": "RcwxtWDIT4VV",
        "outputId": "5606d161-1c17-42de-829c-740f184ac2d5"
      },
      "execution_count": null,
      "outputs": [
        {
          "output_type": "execute_result",
          "data": {
            "text/plain": [
              "Sentiment(polarity=0.7, subjectivity=0.6000000000000001)"
            ]
          },
          "metadata": {},
          "execution_count": 3
        }
      ]
    },
    {
      "cell_type": "code",
      "source": [
        "text = 'The general structure of the new Penal Code will be taken from European legislation, while having regard for Japanese circumstances and customs. The foundation of the Penal Code shall follow French law, also considering the Penal Codes of other countries.'\n",
        "\n",
        "from textblob import TextBlob\n",
        "\n",
        "my_valence = TextBlob(text)\n",
        "my_valence.sentiment"
      ],
      "metadata": {
        "colab": {
          "base_uri": "https://localhost:8080/"
        },
        "id": "xoLL8zNOhm4A",
        "outputId": "0e513912-81b5-49fc-d0a0-7c238760e196"
      },
      "execution_count": null,
      "outputs": [
        {
          "output_type": "execute_result",
          "data": {
            "text/plain": [
              "Sentiment(polarity=0.010227272727272729, subjectivity=0.2215909090909091)"
            ]
          },
          "metadata": {},
          "execution_count": 11
        }
      ]
    },
    {
      "cell_type": "code",
      "source": [
        "from wordcloud import WordCloud\n",
        "import matplotlib.pyplot as plt\n",
        "from textblob import TextBlob\n",
        "\n",
        "nietzsche = 'The Will to Truth, which is to tempt us to many a hazardous enterprise, the famous Truthfulness of which all philosophers have hitherto spoken with respect, what questions has this Will to Truth not laid before us! What strange, perplexing, questionable questions! It is already a long story; yet it seems as if it were hardly commenced. Is it any wonder if we at last grow distrustful, lose patience, and turn impatiently away? That this Sphinx teaches us at last to ask questions ourselves? WHO is it really that puts questions to us here? WHAT really is this \"Will to Truth\" in us? In fact we made a long halt at the question as to the origin of this Will—until at last we came to an absolute standstill before a yet more fundamental question. We inquired about the VALUE of this Will. Granted that we want the truth: WHY NOT RATHER untruth? And uncertainty? Even ignorance? The problem of the value of truth presented itself before us—or was it we who presented ourselves before the problem? Which of us is the Oedipus here? Which the Sphinx? It would seem to be a rendezvous of questions and notes of interrogation. And could it be believed that it at last seems to us as if the problem had never been propounded before, as if we were the first to discern it, get a sight of it, and RISK RAISING it? For there is risk in raising it, perhaps there is no greater risk.'\n",
        "\n",
        "my_valence = TextBlob(text)\n",
        "my_valence.sentiment\n",
        "\n",
        "cloud_nietzsche = WordCloud(background_color = 'white').generate(nietzsche)\n",
        "\n",
        "plt.imshow(cloud_nietzsche, interpolation = 'bilinear')\n",
        "plt.axis('off')\n",
        "plt.show()"
      ],
      "metadata": {
        "id": "g5Xkxa4Rcq7s",
        "colab": {
          "base_uri": "https://localhost:8080/",
          "height": 285
        },
        "outputId": "a84b3e88-e1ef-400c-930f-c9fa34f7b94b"
      },
      "execution_count": null,
      "outputs": [
        {
          "output_type": "display_data",
          "data": {
            "text/plain": [
              "<Figure size 640x480 with 1 Axes>"
            ],
            "image/png": "[encoded data removed]"
          },
          "metadata": {}
        }
      ]
    },
    {
      "cell_type": "code",
      "source": [
        "# Import the required function\n",
        "from sklearn.feature_extraction.text import CountVectorizer\n",
        "\n",
        "annak = ['Happy families are all alike;', 'every unhappy family is unhappy in its own way']\n",
        "\n",
        "# Build the vectorizer and fit it\n",
        "anna_vect = CountVectorizer()\n",
        "anna_vect.fit(annak)\n",
        "\n",
        "# Create the bow representation\n",
        "anna_bow = anna_vect.transform(annak).toarray\n",
        "\n",
        "# Print the bag-of-words result\n",
        "print(anna_bow)"
      ],
      "metadata": {
        "colab": {
          "base_uri": "https://localhost:8080/"
        },
        "id": "JYCTJgsDohCQ",
        "outputId": "6ef99579-ec55-4846-93ec-5f87768ebda5"
      },
      "execution_count": null,
      "outputs": [
        {
          "output_type": "stream",
          "name": "stdout",
          "text": [
            "<bound method _cs_matrix.toarray of <2x13 sparse matrix of type '<class 'numpy.int64'>'\n",
            "\twith 13 stored elements in Compressed Sparse Row format>>\n"
          ]
        }
      ]
    },
    {
      "cell_type": "code",
      "source": [
        "# CountVectorizer function에서 단어 조합 수의 parameter를 결정할 수도 있음 - 'CountVectorizer(ngram_range=(min 수, max 수))' 형태로\n",
        "# CountVectorizer의 파라미터 종류 - ngram_range 외에도 'max_features'(지정한 숫자의 횟수만큼 등장하는 단어들 보여줌), 'max_df'(~번 초과로 등장하는 단어 제외), 'min_df'(~번 미만으로 등장하는 단어 제외)\n",
        "\n",
        "# Import the word tokenizing function\n",
        "from nltk import word_tokenize\n",
        "\n",
        "# Tokenize each item in the avengers\n",
        "tokens_avengers = [word_tokenize(item) for item in avengers] - # word_tokenize 옆 괄호 안 item을 avengers로 바꾸라는 명령인가?\n",
        "\n",
        "print(tokens_avengers)"
      ],
      "metadata": {
        "colab": {
          "base_uri": "https://localhost:8080/",
          "height": 216
        },
        "id": "xokoKFeBqwyu",
        "outputId": "1046d249-319d-4298-cd9c-f11baf916859"
      },
      "execution_count": null,
      "outputs": [
        {
          "output_type": "error",
          "ename": "NameError",
          "evalue": "name 'avengers' is not defined",
          "traceback": [
            "\u001b[0;31m---------------------------------------------------------------------------\u001b[0m",
            "\u001b[0;31mNameError\u001b[0m                                 Traceback (most recent call last)",
            "\u001b[0;32m<ipython-input-7-e8196302a603>\u001b[0m in \u001b[0;36m<cell line: 8>\u001b[0;34m()\u001b[0m\n\u001b[1;32m      6\u001b[0m \u001b[0;34m\u001b[0m\u001b[0m\n\u001b[1;32m      7\u001b[0m \u001b[0;31m# Tokenize each item in the avengers\u001b[0m\u001b[0;34m\u001b[0m\u001b[0;34m\u001b[0m\u001b[0m\n\u001b[0;32m----> 8\u001b[0;31m \u001b[0mtokens_avengers\u001b[0m \u001b[0;34m=\u001b[0m \u001b[0;34m[\u001b[0m\u001b[0mword_tokenize\u001b[0m\u001b[0;34m(\u001b[0m\u001b[0mitem\u001b[0m\u001b[0;34m)\u001b[0m \u001b[0;32mfor\u001b[0m \u001b[0mitem\u001b[0m \u001b[0;32min\u001b[0m \u001b[0mavengers\u001b[0m\u001b[0;34m]\u001b[0m\u001b[0;34m\u001b[0m\u001b[0;34m\u001b[0m\u001b[0m\n\u001b[0m\u001b[1;32m      9\u001b[0m \u001b[0;34m\u001b[0m\u001b[0m\n\u001b[1;32m     10\u001b[0m \u001b[0mprint\u001b[0m\u001b[0;34m(\u001b[0m\u001b[0mtokens_avengers\u001b[0m\u001b[0;34m)\u001b[0m\u001b[0;34m\u001b[0m\u001b[0;34m\u001b[0m\u001b[0m\n",
            "\u001b[0;31mNameError\u001b[0m: name 'avengers' is not defined"
          ]
        }
      ]
    },
    {
      "cell_type": "code",
      "source": [
        "# stopwords 제거: wordcloud에서는 set function으로 내가 단어들 직접 추가 / countvectorizer에서는 union"
      ],
      "metadata": {
        "id": "KxtI7FFMbbr6"
      },
      "execution_count": null,
      "outputs": []
    },
    {
      "cell_type": "code",
      "source": [
        "import folium\n",
        "\n",
        "m = folium.Map(location=[36.072144, -86.937144], zoom_start=15)\n",
        "m.save('map.html')\n",
        "m\n"
      ],
      "metadata": {
        "id": "ZaDk-sdkek-L",
        "colab": {
          "base_uri": "https://localhost:8080/",
          "height": 470
        },
        "outputId": "522044ad-8e8f-4f52-c4fa-d5ed8ed263ae"
      },
      "execution_count": null,
      "outputs": [
        {
          "output_type": "execute_result",
          "data": {
            "text/plain": [
              "<folium.folium.Map at 0x7836768c6b60>"
            ],
            "text/html": [
              "<div style=\"width:100%;\"><div style=\"position:relative;width:100%;height:0;padding-bottom:60%;\"><span style=\"color:#565656\">Make this Notebook Trusted to load map: File -> Trust Notebook</span><iframe srcdoc=\"&lt;!DOCTYPE html&gt;\n",
              "&lt;html&gt;\n",
              "&lt;head&gt;\n",
              "    \n",
              "    &lt;meta http-equiv=&quot;content-type&quot; content=&quot;text/html; charset=UTF-8&quot; /&gt;\n",
              "    \n",
              "        &lt;script&gt;\n",
              "            L_NO_TOUCH = false;\n",
              "            L_DISABLE_3D = false;\n",
              "        &lt;/script&gt;\n",
              "    \n",
              "    &lt;style&gt;html, body {width: 100%;height: 100%;margin: 0;padding: 0;}&lt;/style&gt;\n",
              "    &lt;style&gt;#map {position:absolute;top:0;bottom:0;right:0;left:0;}&lt;/style&gt;\n",
              "    &lt;script src=&quot;https://cdn.jsdelivr.net/npm/leaflet@1.9.3/dist/leaflet.js&quot;&gt;&lt;/script&gt;\n",
              "    &lt;script src=&quot;https://code.jquery.com/jquery-3.7.1.min.js&quot;&gt;&lt;/script&gt;\n",
              "    &lt;script src=&quot;https://cdn.jsdelivr.net/npm/bootstrap@5.2.2/dist/js/bootstrap.bundle.min.js&quot;&gt;&lt;/script&gt;\n",
              "    &lt;script src=&quot;https://cdnjs.cloudflare.com/ajax/libs/Leaflet.awesome-markers/2.0.2/leaflet.awesome-markers.js&quot;&gt;&lt;/script&gt;\n",
              "    &lt;link rel=&quot;stylesheet&quot; href=&quot;https://cdn.jsdelivr.net/npm/leaflet@1.9.3/dist/leaflet.css&quot;/&gt;\n",
              "    &lt;link rel=&quot;stylesheet&quot; href=&quot;https://cdn.jsdelivr.net/npm/bootstrap@5.2.2/dist/css/bootstrap.min.css&quot;/&gt;\n",
              "    &lt;link rel=&quot;stylesheet&quot; href=&quot;https://netdna.bootstrapcdn.com/bootstrap/3.0.0/css/bootstrap-glyphicons.css&quot;/&gt;\n",
              "    &lt;link rel=&quot;stylesheet&quot; href=&quot;https://cdn.jsdelivr.net/npm/@fortawesome/fontawesome-free@6.2.0/css/all.min.css&quot;/&gt;\n",
              "    &lt;link rel=&quot;stylesheet&quot; href=&quot;https://cdnjs.cloudflare.com/ajax/libs/Leaflet.awesome-markers/2.0.2/leaflet.awesome-markers.css&quot;/&gt;\n",
              "    &lt;link rel=&quot;stylesheet&quot; href=&quot;https://cdn.jsdelivr.net/gh/python-visualization/folium/folium/templates/leaflet.awesome.rotate.min.css&quot;/&gt;\n",
              "    \n",
              "            &lt;meta name=&quot;viewport&quot; content=&quot;width=device-width,\n",
              "                initial-scale=1.0, maximum-scale=1.0, user-scalable=no&quot; /&gt;\n",
              "            &lt;style&gt;\n",
              "                #map_40c30babbc648c42c86030954b68d3e0 {\n",
              "                    position: relative;\n",
              "                    width: 100.0%;\n",
              "                    height: 100.0%;\n",
              "                    left: 0.0%;\n",
              "                    top: 0.0%;\n",
              "                }\n",
              "                .leaflet-container { font-size: 1rem; }\n",
              "            &lt;/style&gt;\n",
              "        \n",
              "&lt;/head&gt;\n",
              "&lt;body&gt;\n",
              "    \n",
              "    \n",
              "            &lt;div class=&quot;folium-map&quot; id=&quot;map_40c30babbc648c42c86030954b68d3e0&quot; &gt;&lt;/div&gt;\n",
              "        \n",
              "&lt;/body&gt;\n",
              "&lt;script&gt;\n",
              "    \n",
              "    \n",
              "            var map_40c30babbc648c42c86030954b68d3e0 = L.map(\n",
              "                &quot;map_40c30babbc648c42c86030954b68d3e0&quot;,\n",
              "                {\n",
              "                    center: [36.072144, -86.937144],\n",
              "                    crs: L.CRS.EPSG3857,\n",
              "                    zoom: 15,\n",
              "                    zoomControl: true,\n",
              "                    preferCanvas: false,\n",
              "                }\n",
              "            );\n",
              "\n",
              "            \n",
              "\n",
              "        \n",
              "    \n",
              "            var tile_layer_f3b0e00135052db48170a716462e1768 = L.tileLayer(\n",
              "                &quot;https://tile.openstreetmap.org/{z}/{x}/{y}.png&quot;,\n",
              "                {&quot;attribution&quot;: &quot;\\u0026copy; \\u003ca href=\\&quot;https://www.openstreetmap.org/copyright\\&quot;\\u003eOpenStreetMap\\u003c/a\\u003e contributors&quot;, &quot;detectRetina&quot;: false, &quot;maxNativeZoom&quot;: 19, &quot;maxZoom&quot;: 19, &quot;minZoom&quot;: 0, &quot;noWrap&quot;: false, &quot;opacity&quot;: 1, &quot;subdomains&quot;: &quot;abc&quot;, &quot;tms&quot;: false}\n",
              "            );\n",
              "        \n",
              "    \n",
              "            tile_layer_f3b0e00135052db48170a716462e1768.addTo(map_40c30babbc648c42c86030954b68d3e0);\n",
              "        \n",
              "    \n",
              "            tile_layer_f3b0e00135052db48170a716462e1768.addTo(map_40c30babbc648c42c86030954b68d3e0);\n",
              "        \n",
              "&lt;/script&gt;\n",
              "&lt;/html&gt;\" style=\"position:absolute;width:100%;height:100%;left:0;top:0;border:none !important;\" allowfullscreen webkitallowfullscreen mozallowfullscreen></iframe></div></div>"
            ]
          },
          "metadata": {},
          "execution_count": 12
        }
      ]
    },
    {
      "cell_type": "code",
      "source": [
        "import folium\n",
        "\n",
        "\n",
        "m = folium.Map(location=[36.072144, -86.937144], zoom_start=15)\n",
        "\n",
        "folium.Marker(\n",
        "    location=[36.072144, -86.937144],\n",
        "    popup=\"몰라\", icon=folium.Icon(color=\"black\", icon=\"star\")).add_to(m)\n",
        "\n",
        "\n",
        "folium.CircleMarker(location=[36.072144, -86.937144],\n",
        "                    radius=100,\n",
        "                    color=\"black\",\n",
        "                    )\n",
        "\n",
        "m"
      ],
      "metadata": {
        "colab": {
          "base_uri": "https://localhost:8080/",
          "height": 470
        },
        "id": "K5419bvAk0jc",
        "outputId": "59c4572f-e32e-4980-a42b-369f91bd2a95"
      },
      "execution_count": null,
      "outputs": [
        {
          "output_type": "execute_result",
          "data": {
            "text/plain": [
              "<folium.folium.Map at 0x783671cad7e0>"
            ],
            "text/html": [
              "<div style=\"width:100%;\"><div style=\"position:relative;width:100%;height:0;padding-bottom:60%;\"><span style=\"color:#565656\">Make this Notebook Trusted to load map: File -> Trust Notebook</span><iframe srcdoc=\"&lt;!DOCTYPE html&gt;\n",
              "&lt;html&gt;\n",
              "&lt;head&gt;\n",
              "    \n",
              "    &lt;meta http-equiv=&quot;content-type&quot; content=&quot;text/html; charset=UTF-8&quot; /&gt;\n",
              "    \n",
              "        &lt;script&gt;\n",
              "            L_NO_TOUCH = false;\n",
              "            L_DISABLE_3D = false;\n",
              "        &lt;/script&gt;\n",
              "    \n",
              "    &lt;style&gt;html, body {width: 100%;height: 100%;margin: 0;padding: 0;}&lt;/style&gt;\n",
              "    &lt;style&gt;#map {position:absolute;top:0;bottom:0;right:0;left:0;}&lt;/style&gt;\n",
              "    &lt;script src=&quot;https://cdn.jsdelivr.net/npm/leaflet@1.9.3/dist/leaflet.js&quot;&gt;&lt;/script&gt;\n",
              "    &lt;script src=&quot;https://code.jquery.com/jquery-3.7.1.min.js&quot;&gt;&lt;/script&gt;\n",
              "    &lt;script src=&quot;https://cdn.jsdelivr.net/npm/bootstrap@5.2.2/dist/js/bootstrap.bundle.min.js&quot;&gt;&lt;/script&gt;\n",
              "    &lt;script src=&quot;https://cdnjs.cloudflare.com/ajax/libs/Leaflet.awesome-markers/2.0.2/leaflet.awesome-markers.js&quot;&gt;&lt;/script&gt;\n",
              "    &lt;link rel=&quot;stylesheet&quot; href=&quot;https://cdn.jsdelivr.net/npm/leaflet@1.9.3/dist/leaflet.css&quot;/&gt;\n",
              "    &lt;link rel=&quot;stylesheet&quot; href=&quot;https://cdn.jsdelivr.net/npm/bootstrap@5.2.2/dist/css/bootstrap.min.css&quot;/&gt;\n",
              "    &lt;link rel=&quot;stylesheet&quot; href=&quot;https://netdna.bootstrapcdn.com/bootstrap/3.0.0/css/bootstrap-glyphicons.css&quot;/&gt;\n",
              "    &lt;link rel=&quot;stylesheet&quot; href=&quot;https://cdn.jsdelivr.net/npm/@fortawesome/fontawesome-free@6.2.0/css/all.min.css&quot;/&gt;\n",
              "    &lt;link rel=&quot;stylesheet&quot; href=&quot;https://cdnjs.cloudflare.com/ajax/libs/Leaflet.awesome-markers/2.0.2/leaflet.awesome-markers.css&quot;/&gt;\n",
              "    &lt;link rel=&quot;stylesheet&quot; href=&quot;https://cdn.jsdelivr.net/gh/python-visualization/folium/folium/templates/leaflet.awesome.rotate.min.css&quot;/&gt;\n",
              "    \n",
              "            &lt;meta name=&quot;viewport&quot; content=&quot;width=device-width,\n",
              "                initial-scale=1.0, maximum-scale=1.0, user-scalable=no&quot; /&gt;\n",
              "            &lt;style&gt;\n",
              "                #map_4b784d33aaa16a27783c609c80d27beb {\n",
              "                    position: relative;\n",
              "                    width: 100.0%;\n",
              "                    height: 100.0%;\n",
              "                    left: 0.0%;\n",
              "                    top: 0.0%;\n",
              "                }\n",
              "                .leaflet-container { font-size: 1rem; }\n",
              "            &lt;/style&gt;\n",
              "        \n",
              "&lt;/head&gt;\n",
              "&lt;body&gt;\n",
              "    \n",
              "    \n",
              "            &lt;div class=&quot;folium-map&quot; id=&quot;map_4b784d33aaa16a27783c609c80d27beb&quot; &gt;&lt;/div&gt;\n",
              "        \n",
              "&lt;/body&gt;\n",
              "&lt;script&gt;\n",
              "    \n",
              "    \n",
              "            var map_4b784d33aaa16a27783c609c80d27beb = L.map(\n",
              "                &quot;map_4b784d33aaa16a27783c609c80d27beb&quot;,\n",
              "                {\n",
              "                    center: [36.072144, -86.937144],\n",
              "                    crs: L.CRS.EPSG3857,\n",
              "                    zoom: 15,\n",
              "                    zoomControl: true,\n",
              "                    preferCanvas: false,\n",
              "                }\n",
              "            );\n",
              "\n",
              "            \n",
              "\n",
              "        \n",
              "    \n",
              "            var tile_layer_bee77a5789137f35d932347b833d7a33 = L.tileLayer(\n",
              "                &quot;https://tile.openstreetmap.org/{z}/{x}/{y}.png&quot;,\n",
              "                {&quot;attribution&quot;: &quot;\\u0026copy; \\u003ca href=\\&quot;https://www.openstreetmap.org/copyright\\&quot;\\u003eOpenStreetMap\\u003c/a\\u003e contributors&quot;, &quot;detectRetina&quot;: false, &quot;maxNativeZoom&quot;: 19, &quot;maxZoom&quot;: 19, &quot;minZoom&quot;: 0, &quot;noWrap&quot;: false, &quot;opacity&quot;: 1, &quot;subdomains&quot;: &quot;abc&quot;, &quot;tms&quot;: false}\n",
              "            );\n",
              "        \n",
              "    \n",
              "            tile_layer_bee77a5789137f35d932347b833d7a33.addTo(map_4b784d33aaa16a27783c609c80d27beb);\n",
              "        \n",
              "    \n",
              "            var marker_4f26a0b097be627f7447b9f8ff31fcd1 = L.marker(\n",
              "                [36.072144, -86.937144],\n",
              "                {}\n",
              "            ).addTo(map_4b784d33aaa16a27783c609c80d27beb);\n",
              "        \n",
              "    \n",
              "            var icon_f5579a746b4b9738124e484ec0c5bd40 = L.AwesomeMarkers.icon(\n",
              "                {&quot;extraClasses&quot;: &quot;fa-rotate-0&quot;, &quot;icon&quot;: &quot;star&quot;, &quot;iconColor&quot;: &quot;white&quot;, &quot;markerColor&quot;: &quot;black&quot;, &quot;prefix&quot;: &quot;glyphicon&quot;}\n",
              "            );\n",
              "            marker_4f26a0b097be627f7447b9f8ff31fcd1.setIcon(icon_f5579a746b4b9738124e484ec0c5bd40);\n",
              "        \n",
              "    \n",
              "        var popup_7157e5c957e63570ac7fc352f1e20020 = L.popup({&quot;maxWidth&quot;: &quot;100%&quot;});\n",
              "\n",
              "        \n",
              "            \n",
              "                var html_58c672bab048407aefb4bf531734e4c9 = $(`&lt;div id=&quot;html_58c672bab048407aefb4bf531734e4c9&quot; style=&quot;width: 100.0%; height: 100.0%;&quot;&gt;몰라&lt;/div&gt;`)[0];\n",
              "                popup_7157e5c957e63570ac7fc352f1e20020.setContent(html_58c672bab048407aefb4bf531734e4c9);\n",
              "            \n",
              "        \n",
              "\n",
              "        marker_4f26a0b097be627f7447b9f8ff31fcd1.bindPopup(popup_7157e5c957e63570ac7fc352f1e20020)\n",
              "        ;\n",
              "\n",
              "        \n",
              "    \n",
              "&lt;/script&gt;\n",
              "&lt;/html&gt;\" style=\"position:absolute;width:100%;height:100%;left:0;top:0;border:none !important;\" allowfullscreen webkitallowfullscreen mozallowfullscreen></iframe></div></div>"
            ]
          },
          "metadata": {},
          "execution_count": 25
        }
      ]
    },
    {
      "cell_type": "code",
      "source": [
        "import folium\n",
        "\n",
        "\n",
        "m = folium.Map(location=[36.072144, -86.937144], zoom_start=15)\n",
        "\n",
        "folium.CircleMarker(location=[36.072144, -86.937144],\n",
        "                    radius=50,\n",
        "                    color=\"black\",\n",
        "                    popup=\"what\", icon=folium.Icon(color=\"black\", icon=\"star\")).add_to(m)\n",
        "\n",
        "m"
      ],
      "metadata": {
        "colab": {
          "base_uri": "https://localhost:8080/",
          "height": 470
        },
        "id": "TSwMu-jUmTp7",
        "outputId": "f5d0f0cb-0ed6-4b52-fdfa-9fe45d7da887"
      },
      "execution_count": null,
      "outputs": [
        {
          "output_type": "execute_result",
          "data": {
            "text/plain": [
              "<folium.folium.Map at 0x783671cfb730>"
            ],
            "text/html": [
              "<div style=\"width:100%;\"><div style=\"position:relative;width:100%;height:0;padding-bottom:60%;\"><span style=\"color:#565656\">Make this Notebook Trusted to load map: File -> Trust Notebook</span><iframe srcdoc=\"&lt;!DOCTYPE html&gt;\n",
              "&lt;html&gt;\n",
              "&lt;head&gt;\n",
              "    \n",
              "    &lt;meta http-equiv=&quot;content-type&quot; content=&quot;text/html; charset=UTF-8&quot; /&gt;\n",
              "    \n",
              "        &lt;script&gt;\n",
              "            L_NO_TOUCH = false;\n",
              "            L_DISABLE_3D = false;\n",
              "        &lt;/script&gt;\n",
              "    \n",
              "    &lt;style&gt;html, body {width: 100%;height: 100%;margin: 0;padding: 0;}&lt;/style&gt;\n",
              "    &lt;style&gt;#map {position:absolute;top:0;bottom:0;right:0;left:0;}&lt;/style&gt;\n",
              "    &lt;script src=&quot;https://cdn.jsdelivr.net/npm/leaflet@1.9.3/dist/leaflet.js&quot;&gt;&lt;/script&gt;\n",
              "    &lt;script src=&quot;https://code.jquery.com/jquery-3.7.1.min.js&quot;&gt;&lt;/script&gt;\n",
              "    &lt;script src=&quot;https://cdn.jsdelivr.net/npm/bootstrap@5.2.2/dist/js/bootstrap.bundle.min.js&quot;&gt;&lt;/script&gt;\n",
              "    &lt;script src=&quot;https://cdnjs.cloudflare.com/ajax/libs/Leaflet.awesome-markers/2.0.2/leaflet.awesome-markers.js&quot;&gt;&lt;/script&gt;\n",
              "    &lt;link rel=&quot;stylesheet&quot; href=&quot;https://cdn.jsdelivr.net/npm/leaflet@1.9.3/dist/leaflet.css&quot;/&gt;\n",
              "    &lt;link rel=&quot;stylesheet&quot; href=&quot;https://cdn.jsdelivr.net/npm/bootstrap@5.2.2/dist/css/bootstrap.min.css&quot;/&gt;\n",
              "    &lt;link rel=&quot;stylesheet&quot; href=&quot;https://netdna.bootstrapcdn.com/bootstrap/3.0.0/css/bootstrap-glyphicons.css&quot;/&gt;\n",
              "    &lt;link rel=&quot;stylesheet&quot; href=&quot;https://cdn.jsdelivr.net/npm/@fortawesome/fontawesome-free@6.2.0/css/all.min.css&quot;/&gt;\n",
              "    &lt;link rel=&quot;stylesheet&quot; href=&quot;https://cdnjs.cloudflare.com/ajax/libs/Leaflet.awesome-markers/2.0.2/leaflet.awesome-markers.css&quot;/&gt;\n",
              "    &lt;link rel=&quot;stylesheet&quot; href=&quot;https://cdn.jsdelivr.net/gh/python-visualization/folium/folium/templates/leaflet.awesome.rotate.min.css&quot;/&gt;\n",
              "    \n",
              "            &lt;meta name=&quot;viewport&quot; content=&quot;width=device-width,\n",
              "                initial-scale=1.0, maximum-scale=1.0, user-scalable=no&quot; /&gt;\n",
              "            &lt;style&gt;\n",
              "                #map_ada6127542d170e5153b9375ec731cc6 {\n",
              "                    position: relative;\n",
              "                    width: 100.0%;\n",
              "                    height: 100.0%;\n",
              "                    left: 0.0%;\n",
              "                    top: 0.0%;\n",
              "                }\n",
              "                .leaflet-container { font-size: 1rem; }\n",
              "            &lt;/style&gt;\n",
              "        \n",
              "&lt;/head&gt;\n",
              "&lt;body&gt;\n",
              "    \n",
              "    \n",
              "            &lt;div class=&quot;folium-map&quot; id=&quot;map_ada6127542d170e5153b9375ec731cc6&quot; &gt;&lt;/div&gt;\n",
              "        \n",
              "&lt;/body&gt;\n",
              "&lt;script&gt;\n",
              "    \n",
              "    \n",
              "            var map_ada6127542d170e5153b9375ec731cc6 = L.map(\n",
              "                &quot;map_ada6127542d170e5153b9375ec731cc6&quot;,\n",
              "                {\n",
              "                    center: [36.072144, -86.937144],\n",
              "                    crs: L.CRS.EPSG3857,\n",
              "                    zoom: 15,\n",
              "                    zoomControl: true,\n",
              "                    preferCanvas: false,\n",
              "                }\n",
              "            );\n",
              "\n",
              "            \n",
              "\n",
              "        \n",
              "    \n",
              "            var tile_layer_d110ddcb97ab15f2122ea244249d8ee6 = L.tileLayer(\n",
              "                &quot;https://tile.openstreetmap.org/{z}/{x}/{y}.png&quot;,\n",
              "                {&quot;attribution&quot;: &quot;\\u0026copy; \\u003ca href=\\&quot;https://www.openstreetmap.org/copyright\\&quot;\\u003eOpenStreetMap\\u003c/a\\u003e contributors&quot;, &quot;detectRetina&quot;: false, &quot;maxNativeZoom&quot;: 19, &quot;maxZoom&quot;: 19, &quot;minZoom&quot;: 0, &quot;noWrap&quot;: false, &quot;opacity&quot;: 1, &quot;subdomains&quot;: &quot;abc&quot;, &quot;tms&quot;: false}\n",
              "            );\n",
              "        \n",
              "    \n",
              "            tile_layer_d110ddcb97ab15f2122ea244249d8ee6.addTo(map_ada6127542d170e5153b9375ec731cc6);\n",
              "        \n",
              "    \n",
              "            var circle_marker_45502f637b6b786ff9111d0a27a6be6a = L.circleMarker(\n",
              "                [36.072144, -86.937144],\n",
              "                {&quot;bubblingMouseEvents&quot;: true, &quot;color&quot;: &quot;black&quot;, &quot;dashArray&quot;: null, &quot;dashOffset&quot;: null, &quot;fill&quot;: false, &quot;fillColor&quot;: &quot;black&quot;, &quot;fillOpacity&quot;: 0.2, &quot;fillRule&quot;: &quot;evenodd&quot;, &quot;lineCap&quot;: &quot;round&quot;, &quot;lineJoin&quot;: &quot;round&quot;, &quot;opacity&quot;: 1.0, &quot;radius&quot;: 50, &quot;stroke&quot;: true, &quot;weight&quot;: 3}\n",
              "            ).addTo(map_ada6127542d170e5153b9375ec731cc6);\n",
              "        \n",
              "    \n",
              "        var popup_d31b11999893d06fc2f1230d84874c02 = L.popup({&quot;maxWidth&quot;: &quot;100%&quot;});\n",
              "\n",
              "        \n",
              "            \n",
              "                var html_921e70166531abcdf46ad60825168436 = $(`&lt;div id=&quot;html_921e70166531abcdf46ad60825168436&quot; style=&quot;width: 100.0%; height: 100.0%;&quot;&gt;what&lt;/div&gt;`)[0];\n",
              "                popup_d31b11999893d06fc2f1230d84874c02.setContent(html_921e70166531abcdf46ad60825168436);\n",
              "            \n",
              "        \n",
              "\n",
              "        circle_marker_45502f637b6b786ff9111d0a27a6be6a.bindPopup(popup_d31b11999893d06fc2f1230d84874c02)\n",
              "        ;\n",
              "\n",
              "        \n",
              "    \n",
              "&lt;/script&gt;\n",
              "&lt;/html&gt;\" style=\"position:absolute;width:100%;height:100%;left:0;top:0;border:none !important;\" allowfullscreen webkitallowfullscreen mozallowfullscreen></iframe></div></div>"
            ]
          },
          "metadata": {},
          "execution_count": 28
        }
      ]
    },
    {
      "cell_type": "code",
      "source": [
        "from google.colab import drive\n",
        "drive.mount('/content/drive')"
      ],
      "metadata": {
        "colab": {
          "base_uri": "https://localhost:8080/"
        },
        "id": "zc8J6d7SjlBi",
        "outputId": "67a119ce-c0bd-4486-8dfe-6eccc367c7e1"
      },
      "execution_count": null,
      "outputs": [
        {
          "output_type": "stream",
          "name": "stdout",
          "text": [
            "Drive already mounted at /content/drive; to attempt to forcibly remount, call drive.mount(\"/content/drive\", force_remount=True).\n"
          ]
        }
      ]
    },
    {
      "cell_type": "code",
      "source": [
        "import folium\n",
        "import numpy as np\n",
        "import pandas as pd\n",
        "import json\n",
        "import requests\n",
        "import branca\n",
        "folium.__version__"
      ],
      "metadata": {
        "colab": {
          "base_uri": "https://localhost:8080/",
          "height": 36
        },
        "id": "EFcQhbYhMhwH",
        "outputId": "bea2e75b-2e50-4388-cae6-20338a346276"
      },
      "execution_count": null,
      "outputs": [
        {
          "output_type": "execute_result",
          "data": {
            "text/plain": [
              "'0.17.0'"
            ],
            "application/vnd.google.colaboratory.intrinsic+json": {
              "type": "string"
            }
          },
          "metadata": {},
          "execution_count": 25
        }
      ]
    },
    {
      "cell_type": "code",
      "source": [
        "m = folium.Map(location=[36.237741, 140.278191])\n",
        "m"
      ],
      "metadata": {
        "colab": {
          "base_uri": "https://localhost:8080/",
          "height": 515
        },
        "id": "9pGOpS9kNIZF",
        "outputId": "d1423faa-7774-4652-a63b-bcff6170f0a3"
      },
      "execution_count": null,
      "outputs": [
        {
          "output_type": "execute_result",
          "data": {
            "text/plain": [
              "<folium.folium.Map at 0x7cdcb2e148b0>"
            ],
            "text/html": [
              "<div style=\"width:100%;\"><div style=\"position:relative;width:100%;height:0;padding-bottom:60%;\"><span style=\"color:#565656\">Make this Notebook Trusted to load map: File -> Trust Notebook</span><iframe srcdoc=\"&lt;!DOCTYPE html&gt;\n",
              "&lt;html&gt;\n",
              "&lt;head&gt;\n",
              "    \n",
              "    &lt;meta http-equiv=&quot;content-type&quot; content=&quot;text/html; charset=UTF-8&quot; /&gt;\n",
              "    \n",
              "        &lt;script&gt;\n",
              "            L_NO_TOUCH = false;\n",
              "            L_DISABLE_3D = false;\n",
              "        &lt;/script&gt;\n",
              "    \n",
              "    &lt;style&gt;html, body {width: 100%;height: 100%;margin: 0;padding: 0;}&lt;/style&gt;\n",
              "    &lt;style&gt;#map {position:absolute;top:0;bottom:0;right:0;left:0;}&lt;/style&gt;\n",
              "    &lt;script src=&quot;https://cdn.jsdelivr.net/npm/leaflet@1.9.3/dist/leaflet.js&quot;&gt;&lt;/script&gt;\n",
              "    &lt;script src=&quot;https://code.jquery.com/jquery-3.7.1.min.js&quot;&gt;&lt;/script&gt;\n",
              "    &lt;script src=&quot;https://cdn.jsdelivr.net/npm/bootstrap@5.2.2/dist/js/bootstrap.bundle.min.js&quot;&gt;&lt;/script&gt;\n",
              "    &lt;script src=&quot;https://cdnjs.cloudflare.com/ajax/libs/Leaflet.awesome-markers/2.0.2/leaflet.awesome-markers.js&quot;&gt;&lt;/script&gt;\n",
              "    &lt;link rel=&quot;stylesheet&quot; href=&quot;https://cdn.jsdelivr.net/npm/leaflet@1.9.3/dist/leaflet.css&quot;/&gt;\n",
              "    &lt;link rel=&quot;stylesheet&quot; href=&quot;https://cdn.jsdelivr.net/npm/bootstrap@5.2.2/dist/css/bootstrap.min.css&quot;/&gt;\n",
              "    &lt;link rel=&quot;stylesheet&quot; href=&quot;https://netdna.bootstrapcdn.com/bootstrap/3.0.0/css/bootstrap-glyphicons.css&quot;/&gt;\n",
              "    &lt;link rel=&quot;stylesheet&quot; href=&quot;https://cdn.jsdelivr.net/npm/@fortawesome/fontawesome-free@6.2.0/css/all.min.css&quot;/&gt;\n",
              "    &lt;link rel=&quot;stylesheet&quot; href=&quot;https://cdnjs.cloudflare.com/ajax/libs/Leaflet.awesome-markers/2.0.2/leaflet.awesome-markers.css&quot;/&gt;\n",
              "    &lt;link rel=&quot;stylesheet&quot; href=&quot;https://cdn.jsdelivr.net/gh/python-visualization/folium/folium/templates/leaflet.awesome.rotate.min.css&quot;/&gt;\n",
              "    \n",
              "            &lt;meta name=&quot;viewport&quot; content=&quot;width=device-width,\n",
              "                initial-scale=1.0, maximum-scale=1.0, user-scalable=no&quot; /&gt;\n",
              "            &lt;style&gt;\n",
              "                #map_b5b89a4756db6a78297acc97fd322d30 {\n",
              "                    position: relative;\n",
              "                    width: 100.0%;\n",
              "                    height: 100.0%;\n",
              "                    left: 0.0%;\n",
              "                    top: 0.0%;\n",
              "                }\n",
              "                .leaflet-container { font-size: 1rem; }\n",
              "            &lt;/style&gt;\n",
              "        \n",
              "&lt;/head&gt;\n",
              "&lt;body&gt;\n",
              "    \n",
              "    \n",
              "            &lt;div class=&quot;folium-map&quot; id=&quot;map_b5b89a4756db6a78297acc97fd322d30&quot; &gt;&lt;/div&gt;\n",
              "        \n",
              "&lt;/body&gt;\n",
              "&lt;script&gt;\n",
              "    \n",
              "    \n",
              "            var map_b5b89a4756db6a78297acc97fd322d30 = L.map(\n",
              "                &quot;map_b5b89a4756db6a78297acc97fd322d30&quot;,\n",
              "                {\n",
              "                    center: [36.237741, 140.278191],\n",
              "                    crs: L.CRS.EPSG3857,\n",
              "                    zoom: 10,\n",
              "                    zoomControl: true,\n",
              "                    preferCanvas: false,\n",
              "                }\n",
              "            );\n",
              "\n",
              "            \n",
              "\n",
              "        \n",
              "    \n",
              "            var tile_layer_10c3f95f59c2cd8f8a0118e8b022b29f = L.tileLayer(\n",
              "                &quot;https://tile.openstreetmap.org/{z}/{x}/{y}.png&quot;,\n",
              "                {&quot;attribution&quot;: &quot;\\u0026copy; \\u003ca href=\\&quot;https://www.openstreetmap.org/copyright\\&quot;\\u003eOpenStreetMap\\u003c/a\\u003e contributors&quot;, &quot;detectRetina&quot;: false, &quot;maxNativeZoom&quot;: 19, &quot;maxZoom&quot;: 19, &quot;minZoom&quot;: 0, &quot;noWrap&quot;: false, &quot;opacity&quot;: 1, &quot;subdomains&quot;: &quot;abc&quot;, &quot;tms&quot;: false}\n",
              "            );\n",
              "        \n",
              "    \n",
              "            tile_layer_10c3f95f59c2cd8f8a0118e8b022b29f.addTo(map_b5b89a4756db6a78297acc97fd322d30);\n",
              "        \n",
              "&lt;/script&gt;\n",
              "&lt;/html&gt;\" style=\"position:absolute;width:100%;height:100%;left:0;top:0;border:none !important;\" allowfullscreen webkitallowfullscreen mozallowfullscreen></iframe></div></div>"
            ]
          },
          "metadata": {},
          "execution_count": 13
        }
      ]
    },
    {
      "cell_type": "code",
      "source": [
        "m.save('map_ibaraki.html')"
      ],
      "metadata": {
        "id": "i0Wz4TklN4Vg"
      },
      "execution_count": null,
      "outputs": []
    },
    {
      "cell_type": "code",
      "source": [
        "from folium import plugins\n",
        "\n",
        "folium.Map(\n",
        "    location=[36.237741, 140.278191],\n",
        "    zoom_start=10)\n",
        "\n",
        "icon_plane = plugins.BeautifyIcon(\n",
        "    icon='plane',\n",
        "    border_color='darkblue',\n",
        "    text_color='darkblue',\n",
        "    icon_shape='circle'\n",
        ")\n",
        "\n",
        "icon_number = plugins.BeautifyIcon(\n",
        "    icon='flag',\n",
        "    border_color='green',\n",
        "    text_color='green',\n",
        "    icon_shape='triangle'\n",
        ")\n",
        "\n",
        "icon_number = plugins.BeautifyIcon(\n",
        "    number = 10,\n",
        "    border_color='darkred',\n",
        "    text_color='darkred',\n",
        "    inner_icon_style='margin-top:0'\n",
        ")\n",
        "\n",
        "folium.Marker(location=[35.7715846369953, 140.38389179012245],\n",
        "              popup='Narita',\n",
        "              icon=icon_plane).add_to(m)\n",
        "\n",
        "folium.Marker(location=[36.237741, 140.278191],\n",
        "              popup='<b>Ibaraki<b>',\n",
        "              icon=folium.Icon(color='red', icon='info-sign')\n",
        ").add_to(m)\n",
        "\n",
        "folium.Marker(location=[35.06818796639191, 134.93110817117847],\n",
        "              popup='<b>Hyogō<b>',\n",
        "              icon=folium.Icon(color='lightgreen', icon='bookmark')\n",
        ").add_to(m)\n",
        "\n",
        "folium.Marker(location=[34.3847520688948, 136.5925184242508],\n",
        "              popup='<b>Mie<b>',\n",
        "              icon=folium.Icon(color='lightblue', icon='flag')\n",
        ").add_to(m)\n",
        "\n",
        "m"
      ],
      "metadata": {
        "colab": {
          "base_uri": "https://localhost:8080/",
          "height": 515
        },
        "id": "pB-h-vkLOEtL",
        "outputId": "aea8fc5b-b85c-4006-fe00-03145f0dcfaf"
      },
      "execution_count": null,
      "outputs": [
        {
          "output_type": "execute_result",
          "data": {
            "text/plain": [
              "<folium.folium.Map at 0x7cdcb2e148b0>"
            ],
            "text/html": [
              "<div style=\"width:100%;\"><div style=\"position:relative;width:100%;height:0;padding-bottom:60%;\"><span style=\"color:#565656\">Make this Notebook Trusted to load map: File -> Trust Notebook</span><iframe srcdoc=\"&lt;!DOCTYPE html&gt;\n",
              "&lt;html&gt;\n",
              "&lt;head&gt;\n",
              "    \n",
              "    &lt;meta http-equiv=&quot;content-type&quot; content=&quot;text/html; charset=UTF-8&quot; /&gt;\n",
              "    \n",
              "        &lt;script&gt;\n",
              "            L_NO_TOUCH = false;\n",
              "            L_DISABLE_3D = false;\n",
              "        &lt;/script&gt;\n",
              "    \n",
              "    &lt;style&gt;html, body {width: 100%;height: 100%;margin: 0;padding: 0;}&lt;/style&gt;\n",
              "    &lt;style&gt;#map {position:absolute;top:0;bottom:0;right:0;left:0;}&lt;/style&gt;\n",
              "    &lt;script src=&quot;https://cdn.jsdelivr.net/npm/leaflet@1.9.3/dist/leaflet.js&quot;&gt;&lt;/script&gt;\n",
              "    &lt;script src=&quot;https://code.jquery.com/jquery-3.7.1.min.js&quot;&gt;&lt;/script&gt;\n",
              "    &lt;script src=&quot;https://cdn.jsdelivr.net/npm/bootstrap@5.2.2/dist/js/bootstrap.bundle.min.js&quot;&gt;&lt;/script&gt;\n",
              "    &lt;script src=&quot;https://cdnjs.cloudflare.com/ajax/libs/Leaflet.awesome-markers/2.0.2/leaflet.awesome-markers.js&quot;&gt;&lt;/script&gt;\n",
              "    &lt;link rel=&quot;stylesheet&quot; href=&quot;https://cdn.jsdelivr.net/npm/leaflet@1.9.3/dist/leaflet.css&quot;/&gt;\n",
              "    &lt;link rel=&quot;stylesheet&quot; href=&quot;https://cdn.jsdelivr.net/npm/bootstrap@5.2.2/dist/css/bootstrap.min.css&quot;/&gt;\n",
              "    &lt;link rel=&quot;stylesheet&quot; href=&quot;https://netdna.bootstrapcdn.com/bootstrap/3.0.0/css/bootstrap-glyphicons.css&quot;/&gt;\n",
              "    &lt;link rel=&quot;stylesheet&quot; href=&quot;https://cdn.jsdelivr.net/npm/@fortawesome/fontawesome-free@6.2.0/css/all.min.css&quot;/&gt;\n",
              "    &lt;link rel=&quot;stylesheet&quot; href=&quot;https://cdnjs.cloudflare.com/ajax/libs/Leaflet.awesome-markers/2.0.2/leaflet.awesome-markers.css&quot;/&gt;\n",
              "    &lt;link rel=&quot;stylesheet&quot; href=&quot;https://cdn.jsdelivr.net/gh/python-visualization/folium/folium/templates/leaflet.awesome.rotate.min.css&quot;/&gt;\n",
              "    \n",
              "            &lt;meta name=&quot;viewport&quot; content=&quot;width=device-width,\n",
              "                initial-scale=1.0, maximum-scale=1.0, user-scalable=no&quot; /&gt;\n",
              "            &lt;style&gt;\n",
              "                #map_b5b89a4756db6a78297acc97fd322d30 {\n",
              "                    position: relative;\n",
              "                    width: 100.0%;\n",
              "                    height: 100.0%;\n",
              "                    left: 0.0%;\n",
              "                    top: 0.0%;\n",
              "                }\n",
              "                .leaflet-container { font-size: 1rem; }\n",
              "            &lt;/style&gt;\n",
              "        \n",
              "    &lt;script src=&quot;https://cdn.jsdelivr.net/gh/marslan390/BeautifyMarker/leaflet-beautify-marker-icon.min.js&quot;&gt;&lt;/script&gt;\n",
              "    &lt;link rel=&quot;stylesheet&quot; href=&quot;https://cdn.jsdelivr.net/gh/marslan390/BeautifyMarker/leaflet-beautify-marker-icon.min.css&quot;/&gt;\n",
              "&lt;/head&gt;\n",
              "&lt;body&gt;\n",
              "    \n",
              "    \n",
              "            &lt;div class=&quot;folium-map&quot; id=&quot;map_b5b89a4756db6a78297acc97fd322d30&quot; &gt;&lt;/div&gt;\n",
              "        \n",
              "&lt;/body&gt;\n",
              "&lt;script&gt;\n",
              "    \n",
              "    \n",
              "            var map_b5b89a4756db6a78297acc97fd322d30 = L.map(\n",
              "                &quot;map_b5b89a4756db6a78297acc97fd322d30&quot;,\n",
              "                {\n",
              "                    center: [36.237741, 140.278191],\n",
              "                    crs: L.CRS.EPSG3857,\n",
              "                    zoom: 10,\n",
              "                    zoomControl: true,\n",
              "                    preferCanvas: false,\n",
              "                }\n",
              "            );\n",
              "\n",
              "            \n",
              "\n",
              "        \n",
              "    \n",
              "            var tile_layer_10c3f95f59c2cd8f8a0118e8b022b29f = L.tileLayer(\n",
              "                &quot;https://tile.openstreetmap.org/{z}/{x}/{y}.png&quot;,\n",
              "                {&quot;attribution&quot;: &quot;\\u0026copy; \\u003ca href=\\&quot;https://www.openstreetmap.org/copyright\\&quot;\\u003eOpenStreetMap\\u003c/a\\u003e contributors&quot;, &quot;detectRetina&quot;: false, &quot;maxNativeZoom&quot;: 19, &quot;maxZoom&quot;: 19, &quot;minZoom&quot;: 0, &quot;noWrap&quot;: false, &quot;opacity&quot;: 1, &quot;subdomains&quot;: &quot;abc&quot;, &quot;tms&quot;: false}\n",
              "            );\n",
              "        \n",
              "    \n",
              "            tile_layer_10c3f95f59c2cd8f8a0118e8b022b29f.addTo(map_b5b89a4756db6a78297acc97fd322d30);\n",
              "        \n",
              "    \n",
              "            tile_layer_10c3f95f59c2cd8f8a0118e8b022b29f.addTo(map_b5b89a4756db6a78297acc97fd322d30);\n",
              "        \n",
              "    \n",
              "            tile_layer_10c3f95f59c2cd8f8a0118e8b022b29f.addTo(map_b5b89a4756db6a78297acc97fd322d30);\n",
              "        \n",
              "    \n",
              "            tile_layer_10c3f95f59c2cd8f8a0118e8b022b29f.addTo(map_b5b89a4756db6a78297acc97fd322d30);\n",
              "        \n",
              "    \n",
              "            var marker_7ac9d8275220b192d3ee32e8b8ffb275 = L.marker(\n",
              "                [36.237741, 140.278191],\n",
              "                {}\n",
              "            ).addTo(map_b5b89a4756db6a78297acc97fd322d30);\n",
              "        \n",
              "    \n",
              "        var popup_fa5c3054e1187ec0207c311302256a7c = L.popup({&quot;maxWidth&quot;: &quot;100%&quot;});\n",
              "\n",
              "        \n",
              "            \n",
              "                var html_6155505f7ba86edba388168033be4603 = $(`&lt;div id=&quot;html_6155505f7ba86edba388168033be4603&quot; style=&quot;width: 100.0%; height: 100.0%;&quot;&gt;&lt;b&gt;Ibaraki&lt;b&gt;&lt;/div&gt;`)[0];\n",
              "                popup_fa5c3054e1187ec0207c311302256a7c.setContent(html_6155505f7ba86edba388168033be4603);\n",
              "            \n",
              "        \n",
              "\n",
              "        marker_7ac9d8275220b192d3ee32e8b8ffb275.bindPopup(popup_fa5c3054e1187ec0207c311302256a7c)\n",
              "        ;\n",
              "\n",
              "        \n",
              "    \n",
              "    \n",
              "            marker_7ac9d8275220b192d3ee32e8b8ffb275.bindTooltip(\n",
              "                `&lt;div&gt;\n",
              "                     Click me!\n",
              "                 &lt;/div&gt;`,\n",
              "                {&quot;sticky&quot;: true}\n",
              "            );\n",
              "        \n",
              "    \n",
              "            var marker_841b3713ae08a24c2c1b690a50aa9a01 = L.marker(\n",
              "                [36.237741, 140.278191],\n",
              "                {}\n",
              "            ).addTo(map_b5b89a4756db6a78297acc97fd322d30);\n",
              "        \n",
              "    \n",
              "        var popup_78f49d9bfc13822ed81142946f59360f = L.popup({&quot;maxWidth&quot;: &quot;100%&quot;});\n",
              "\n",
              "        \n",
              "            \n",
              "                var html_e9026e870fff0f1b8270f91ae03c5e77 = $(`&lt;div id=&quot;html_e9026e870fff0f1b8270f91ae03c5e77&quot; style=&quot;width: 100.0%; height: 100.0%;&quot;&gt;&lt;b&gt;Ibaraki&lt;b&gt;&lt;/div&gt;`)[0];\n",
              "                popup_78f49d9bfc13822ed81142946f59360f.setContent(html_e9026e870fff0f1b8270f91ae03c5e77);\n",
              "            \n",
              "        \n",
              "\n",
              "        marker_841b3713ae08a24c2c1b690a50aa9a01.bindPopup(popup_78f49d9bfc13822ed81142946f59360f)\n",
              "        ;\n",
              "\n",
              "        \n",
              "    \n",
              "    \n",
              "            marker_841b3713ae08a24c2c1b690a50aa9a01.bindTooltip(\n",
              "                `&lt;div&gt;\n",
              "                     Click me!\n",
              "                 &lt;/div&gt;`,\n",
              "                {&quot;sticky&quot;: true}\n",
              "            );\n",
              "        \n",
              "    \n",
              "            var marker_6d281b1aeee9f6a7d03b37932e506563 = L.marker(\n",
              "                [36.237741, 140.278191],\n",
              "                {}\n",
              "            ).addTo(map_b5b89a4756db6a78297acc97fd322d30);\n",
              "        \n",
              "    \n",
              "        var popup_3a19e3b4d42edd87f7adfd2be4342bcd = L.popup({&quot;maxWidth&quot;: &quot;100%&quot;});\n",
              "\n",
              "        \n",
              "            \n",
              "                var html_a23666a098162baa3e8a33c570894ec1 = $(`&lt;div id=&quot;html_a23666a098162baa3e8a33c570894ec1&quot; style=&quot;width: 100.0%; height: 100.0%;&quot;&gt;&lt;b&gt;Ibaraki&lt;b&gt;&lt;/div&gt;`)[0];\n",
              "                popup_3a19e3b4d42edd87f7adfd2be4342bcd.setContent(html_a23666a098162baa3e8a33c570894ec1);\n",
              "            \n",
              "        \n",
              "\n",
              "        marker_6d281b1aeee9f6a7d03b37932e506563.bindPopup(popup_3a19e3b4d42edd87f7adfd2be4342bcd)\n",
              "        ;\n",
              "\n",
              "        \n",
              "    \n",
              "    \n",
              "            marker_6d281b1aeee9f6a7d03b37932e506563.bindTooltip(\n",
              "                `&lt;div&gt;\n",
              "                     Click me!\n",
              "                 &lt;/div&gt;`,\n",
              "                {&quot;sticky&quot;: true}\n",
              "            );\n",
              "        \n",
              "    \n",
              "            tile_layer_10c3f95f59c2cd8f8a0118e8b022b29f.addTo(map_b5b89a4756db6a78297acc97fd322d30);\n",
              "        \n",
              "    \n",
              "            var marker_622ce8e1b9c5128247dbc7a68f38d04e = L.marker(\n",
              "                [36.237741, 140.278191],\n",
              "                {}\n",
              "            ).addTo(map_b5b89a4756db6a78297acc97fd322d30);\n",
              "        \n",
              "    \n",
              "        var popup_1df8a03b997f33f00b109a37efa2033c = L.popup({&quot;maxWidth&quot;: &quot;100%&quot;});\n",
              "\n",
              "        \n",
              "            \n",
              "                var html_16dbfebad97c87d9207e89b584478b9b = $(`&lt;div id=&quot;html_16dbfebad97c87d9207e89b584478b9b&quot; style=&quot;width: 100.0%; height: 100.0%;&quot;&gt;&lt;b&gt;Ibaraki&lt;b&gt;&lt;/div&gt;`)[0];\n",
              "                popup_1df8a03b997f33f00b109a37efa2033c.setContent(html_16dbfebad97c87d9207e89b584478b9b);\n",
              "            \n",
              "        \n",
              "\n",
              "        marker_622ce8e1b9c5128247dbc7a68f38d04e.bindPopup(popup_1df8a03b997f33f00b109a37efa2033c)\n",
              "        ;\n",
              "\n",
              "        \n",
              "    \n",
              "    \n",
              "            marker_622ce8e1b9c5128247dbc7a68f38d04e.bindTooltip(\n",
              "                `&lt;div&gt;\n",
              "                     Click me!\n",
              "                 &lt;/div&gt;`,\n",
              "                {&quot;sticky&quot;: true}\n",
              "            );\n",
              "        \n",
              "    \n",
              "            var marker_1b577fd8b19db3e231cb582fa4441956 = L.marker(\n",
              "                [34.9100729, 133.5414592],\n",
              "                {}\n",
              "            ).addTo(map_b5b89a4756db6a78297acc97fd322d30);\n",
              "        \n",
              "    \n",
              "        var popup_dceb817324fc5a01e612acc8f75a9a7f = L.popup({&quot;maxWidth&quot;: &quot;100%&quot;});\n",
              "\n",
              "        \n",
              "            \n",
              "                var html_d08f423f504827b482bc935b01c47246 = $(`&lt;div id=&quot;html_d08f423f504827b482bc935b01c47246&quot; style=&quot;width: 100.0%; height: 100.0%;&quot;&gt;&lt;b&gt;Hyogō&lt;b&gt;&lt;/div&gt;`)[0];\n",
              "                popup_dceb817324fc5a01e612acc8f75a9a7f.setContent(html_d08f423f504827b482bc935b01c47246);\n",
              "            \n",
              "        \n",
              "\n",
              "        marker_1b577fd8b19db3e231cb582fa4441956.bindPopup(popup_dceb817324fc5a01e612acc8f75a9a7f)\n",
              "        ;\n",
              "\n",
              "        \n",
              "    \n",
              "    \n",
              "            marker_1b577fd8b19db3e231cb582fa4441956.bindTooltip(\n",
              "                `&lt;div&gt;\n",
              "                     Click me!\n",
              "                 &lt;/div&gt;`,\n",
              "                {&quot;sticky&quot;: true}\n",
              "            );\n",
              "        \n",
              "    \n",
              "            tile_layer_10c3f95f59c2cd8f8a0118e8b022b29f.addTo(map_b5b89a4756db6a78297acc97fd322d30);\n",
              "        \n",
              "    \n",
              "            var marker_650d3fd306ffa24f19cc332aa9395da2 = L.marker(\n",
              "                [36.237741, 140.278191],\n",
              "                {}\n",
              "            ).addTo(map_b5b89a4756db6a78297acc97fd322d30);\n",
              "        \n",
              "    \n",
              "        var popup_5bf61d6d9107d1387be3b01d75ed0487 = L.popup({&quot;maxWidth&quot;: &quot;100%&quot;});\n",
              "\n",
              "        \n",
              "            \n",
              "                var html_b47bdd2dadefd92dadade89e4544020d = $(`&lt;div id=&quot;html_b47bdd2dadefd92dadade89e4544020d&quot; style=&quot;width: 100.0%; height: 100.0%;&quot;&gt;&lt;b&gt;Ibaraki&lt;b&gt;&lt;/div&gt;`)[0];\n",
              "                popup_5bf61d6d9107d1387be3b01d75ed0487.setContent(html_b47bdd2dadefd92dadade89e4544020d);\n",
              "            \n",
              "        \n",
              "\n",
              "        marker_650d3fd306ffa24f19cc332aa9395da2.bindPopup(popup_5bf61d6d9107d1387be3b01d75ed0487)\n",
              "        ;\n",
              "\n",
              "        \n",
              "    \n",
              "    \n",
              "            marker_650d3fd306ffa24f19cc332aa9395da2.bindTooltip(\n",
              "                `&lt;div&gt;\n",
              "                     Click me!\n",
              "                 &lt;/div&gt;`,\n",
              "                {&quot;sticky&quot;: true}\n",
              "            );\n",
              "        \n",
              "    \n",
              "            var marker_691d4a04ecbd029adf7ec6b068dab800 = L.marker(\n",
              "                [35.06818796639191, 134.93110817117847],\n",
              "                {}\n",
              "            ).addTo(map_b5b89a4756db6a78297acc97fd322d30);\n",
              "        \n",
              "    \n",
              "        var popup_eebbccf1929dab6518726236324a9536 = L.popup({&quot;maxWidth&quot;: &quot;100%&quot;});\n",
              "\n",
              "        \n",
              "            \n",
              "                var html_c716b6055129e867b046aa69b1a9a6e7 = $(`&lt;div id=&quot;html_c716b6055129e867b046aa69b1a9a6e7&quot; style=&quot;width: 100.0%; height: 100.0%;&quot;&gt;&lt;b&gt;Hyogō&lt;b&gt;&lt;/div&gt;`)[0];\n",
              "                popup_eebbccf1929dab6518726236324a9536.setContent(html_c716b6055129e867b046aa69b1a9a6e7);\n",
              "            \n",
              "        \n",
              "\n",
              "        marker_691d4a04ecbd029adf7ec6b068dab800.bindPopup(popup_eebbccf1929dab6518726236324a9536)\n",
              "        ;\n",
              "\n",
              "        \n",
              "    \n",
              "    \n",
              "            marker_691d4a04ecbd029adf7ec6b068dab800.bindTooltip(\n",
              "                `&lt;div&gt;\n",
              "                     Click me!\n",
              "                 &lt;/div&gt;`,\n",
              "                {&quot;sticky&quot;: true}\n",
              "            );\n",
              "        \n",
              "    \n",
              "            tile_layer_10c3f95f59c2cd8f8a0118e8b022b29f.addTo(map_b5b89a4756db6a78297acc97fd322d30);\n",
              "        \n",
              "    \n",
              "            var marker_177929e5440c5ddf96fb055cd3ac4c84 = L.marker(\n",
              "                [36.237741, 140.278191],\n",
              "                {}\n",
              "            ).addTo(map_b5b89a4756db6a78297acc97fd322d30);\n",
              "        \n",
              "    \n",
              "        var popup_37b7982e773d1b41059ea83b36af3a24 = L.popup({&quot;maxWidth&quot;: &quot;100%&quot;});\n",
              "\n",
              "        \n",
              "            \n",
              "                var html_721b385a509ef1a509809df43340c4bf = $(`&lt;div id=&quot;html_721b385a509ef1a509809df43340c4bf&quot; style=&quot;width: 100.0%; height: 100.0%;&quot;&gt;&lt;b&gt;Ibaraki&lt;b&gt;&lt;/div&gt;`)[0];\n",
              "                popup_37b7982e773d1b41059ea83b36af3a24.setContent(html_721b385a509ef1a509809df43340c4bf);\n",
              "            \n",
              "        \n",
              "\n",
              "        marker_177929e5440c5ddf96fb055cd3ac4c84.bindPopup(popup_37b7982e773d1b41059ea83b36af3a24)\n",
              "        ;\n",
              "\n",
              "        \n",
              "    \n",
              "    \n",
              "            marker_177929e5440c5ddf96fb055cd3ac4c84.bindTooltip(\n",
              "                `&lt;div&gt;\n",
              "                     Click me!\n",
              "                 &lt;/div&gt;`,\n",
              "                {&quot;sticky&quot;: true}\n",
              "            );\n",
              "        \n",
              "    \n",
              "            var marker_589e6faec579e858be3460b4cec7e5bb = L.marker(\n",
              "                [35.06818796639191, 134.93110817117847],\n",
              "                {}\n",
              "            ).addTo(map_b5b89a4756db6a78297acc97fd322d30);\n",
              "        \n",
              "    \n",
              "        var popup_f82030b92b338cfa72212d19603c42de = L.popup({&quot;maxWidth&quot;: &quot;100%&quot;});\n",
              "\n",
              "        \n",
              "            \n",
              "                var html_4314501f6cae697fb830f5f9aacd644b = $(`&lt;div id=&quot;html_4314501f6cae697fb830f5f9aacd644b&quot; style=&quot;width: 100.0%; height: 100.0%;&quot;&gt;&lt;b&gt;Hyogō&lt;b&gt;&lt;/div&gt;`)[0];\n",
              "                popup_f82030b92b338cfa72212d19603c42de.setContent(html_4314501f6cae697fb830f5f9aacd644b);\n",
              "            \n",
              "        \n",
              "\n",
              "        marker_589e6faec579e858be3460b4cec7e5bb.bindPopup(popup_f82030b92b338cfa72212d19603c42de)\n",
              "        ;\n",
              "\n",
              "        \n",
              "    \n",
              "    \n",
              "            marker_589e6faec579e858be3460b4cec7e5bb.bindTooltip(\n",
              "                `&lt;div&gt;\n",
              "                     Click me!\n",
              "                 &lt;/div&gt;`,\n",
              "                {&quot;sticky&quot;: true}\n",
              "            );\n",
              "        \n",
              "    \n",
              "            tile_layer_10c3f95f59c2cd8f8a0118e8b022b29f.addTo(map_b5b89a4756db6a78297acc97fd322d30);\n",
              "        \n",
              "    \n",
              "            var marker_7b211c3d0fcb13a313ddf6b8765feeb0 = L.marker(\n",
              "                [36.237741, 140.278191],\n",
              "                {}\n",
              "            ).addTo(map_b5b89a4756db6a78297acc97fd322d30);\n",
              "        \n",
              "    \n",
              "            var icon_d2ff943400e2e857d58bfd0a8b7f6554 = L.AwesomeMarkers.icon(\n",
              "                {&quot;extraClasses&quot;: &quot;fa-rotate-0&quot;, &quot;icon&quot;: &quot;info-sign&quot;, &quot;iconColor&quot;: &quot;white&quot;, &quot;markerColor&quot;: &quot;red&quot;, &quot;prefix&quot;: &quot;glyphicon&quot;}\n",
              "            );\n",
              "            marker_7b211c3d0fcb13a313ddf6b8765feeb0.setIcon(icon_d2ff943400e2e857d58bfd0a8b7f6554);\n",
              "        \n",
              "    \n",
              "        var popup_2bd28406842b9586fe0f7a801650e41a = L.popup({&quot;maxWidth&quot;: &quot;100%&quot;});\n",
              "\n",
              "        \n",
              "            \n",
              "                var html_5ad063579e002d72ce2153e6e8d7cbdc = $(`&lt;div id=&quot;html_5ad063579e002d72ce2153e6e8d7cbdc&quot; style=&quot;width: 100.0%; height: 100.0%;&quot;&gt;&lt;b&gt;Ibaraki&lt;b&gt;&lt;/div&gt;`)[0];\n",
              "                popup_2bd28406842b9586fe0f7a801650e41a.setContent(html_5ad063579e002d72ce2153e6e8d7cbdc);\n",
              "            \n",
              "        \n",
              "\n",
              "        marker_7b211c3d0fcb13a313ddf6b8765feeb0.bindPopup(popup_2bd28406842b9586fe0f7a801650e41a)\n",
              "        ;\n",
              "\n",
              "        \n",
              "    \n",
              "    \n",
              "            var marker_04fb0c2411268c01c21931b7a775b6af = L.marker(\n",
              "                [35.06818796639191, 134.93110817117847],\n",
              "                {}\n",
              "            ).addTo(map_b5b89a4756db6a78297acc97fd322d30);\n",
              "        \n",
              "    \n",
              "            var icon_d9b796fe6ab091751827afadfd2c0952 = L.AwesomeMarkers.icon(\n",
              "                {&quot;extraClasses&quot;: &quot;fa-rotate-0&quot;, &quot;icon&quot;: &quot;bookmark&quot;, &quot;iconColor&quot;: &quot;white&quot;, &quot;markerColor&quot;: &quot;lightgreen&quot;, &quot;prefix&quot;: &quot;glyphicon&quot;}\n",
              "            );\n",
              "            marker_04fb0c2411268c01c21931b7a775b6af.setIcon(icon_d9b796fe6ab091751827afadfd2c0952);\n",
              "        \n",
              "    \n",
              "        var popup_30e5ea4c4ff6f8009f2ce552272ef56a = L.popup({&quot;maxWidth&quot;: &quot;100%&quot;});\n",
              "\n",
              "        \n",
              "            \n",
              "                var html_45be60891b37d16650f6d12be7d30bc0 = $(`&lt;div id=&quot;html_45be60891b37d16650f6d12be7d30bc0&quot; style=&quot;width: 100.0%; height: 100.0%;&quot;&gt;&lt;b&gt;Hyogō&lt;b&gt;&lt;/div&gt;`)[0];\n",
              "                popup_30e5ea4c4ff6f8009f2ce552272ef56a.setContent(html_45be60891b37d16650f6d12be7d30bc0);\n",
              "            \n",
              "        \n",
              "\n",
              "        marker_04fb0c2411268c01c21931b7a775b6af.bindPopup(popup_30e5ea4c4ff6f8009f2ce552272ef56a)\n",
              "        ;\n",
              "\n",
              "        \n",
              "    \n",
              "    \n",
              "            var marker_3100c4f4ecd18f2f602f9168850fa54e = L.marker(\n",
              "                [34.3847520688948, 136.5925184242508],\n",
              "                {}\n",
              "            ).addTo(map_b5b89a4756db6a78297acc97fd322d30);\n",
              "        \n",
              "    \n",
              "            var icon_113363706f02840b3c3f4048e65592df = L.AwesomeMarkers.icon(\n",
              "                {&quot;extraClasses&quot;: &quot;fa-rotate-0&quot;, &quot;icon&quot;: &quot;flag&quot;, &quot;iconColor&quot;: &quot;white&quot;, &quot;markerColor&quot;: &quot;lightblue&quot;, &quot;prefix&quot;: &quot;glyphicon&quot;}\n",
              "            );\n",
              "            marker_3100c4f4ecd18f2f602f9168850fa54e.setIcon(icon_113363706f02840b3c3f4048e65592df);\n",
              "        \n",
              "    \n",
              "        var popup_8dd973757ecc4b03de07fe0e787aece4 = L.popup({&quot;maxWidth&quot;: &quot;100%&quot;});\n",
              "\n",
              "        \n",
              "            \n",
              "                var html_8465f3d9031b16f3d7b300506f3adb64 = $(`&lt;div id=&quot;html_8465f3d9031b16f3d7b300506f3adb64&quot; style=&quot;width: 100.0%; height: 100.0%;&quot;&gt;&lt;b&gt;Mie&lt;b&gt;&lt;/div&gt;`)[0];\n",
              "                popup_8dd973757ecc4b03de07fe0e787aece4.setContent(html_8465f3d9031b16f3d7b300506f3adb64);\n",
              "            \n",
              "        \n",
              "\n",
              "        marker_3100c4f4ecd18f2f602f9168850fa54e.bindPopup(popup_8dd973757ecc4b03de07fe0e787aece4)\n",
              "        ;\n",
              "\n",
              "        \n",
              "    \n",
              "    \n",
              "            tile_layer_10c3f95f59c2cd8f8a0118e8b022b29f.addTo(map_b5b89a4756db6a78297acc97fd322d30);\n",
              "        \n",
              "    \n",
              "            var marker_16c5e33fa3f7a88fb6328007f723401c = L.marker(\n",
              "                [36.237741, 140.278191],\n",
              "                {}\n",
              "            ).addTo(map_b5b89a4756db6a78297acc97fd322d30);\n",
              "        \n",
              "    \n",
              "            var icon_2517687ce768eb8446349c2b86406429 = L.AwesomeMarkers.icon(\n",
              "                {&quot;extraClasses&quot;: &quot;fa-rotate-0&quot;, &quot;icon&quot;: &quot;info-sign&quot;, &quot;iconColor&quot;: &quot;white&quot;, &quot;markerColor&quot;: &quot;red&quot;, &quot;prefix&quot;: &quot;glyphicon&quot;}\n",
              "            );\n",
              "            marker_16c5e33fa3f7a88fb6328007f723401c.setIcon(icon_2517687ce768eb8446349c2b86406429);\n",
              "        \n",
              "    \n",
              "        var popup_94df39a942ef211dbd14fae8f583f1e5 = L.popup({&quot;maxWidth&quot;: &quot;100%&quot;});\n",
              "\n",
              "        \n",
              "            \n",
              "                var html_f5e1dd12f786c72b7be8fef86c6693e4 = $(`&lt;div id=&quot;html_f5e1dd12f786c72b7be8fef86c6693e4&quot; style=&quot;width: 100.0%; height: 100.0%;&quot;&gt;&lt;b&gt;Ibaraki&lt;b&gt;&lt;/div&gt;`)[0];\n",
              "                popup_94df39a942ef211dbd14fae8f583f1e5.setContent(html_f5e1dd12f786c72b7be8fef86c6693e4);\n",
              "            \n",
              "        \n",
              "\n",
              "        marker_16c5e33fa3f7a88fb6328007f723401c.bindPopup(popup_94df39a942ef211dbd14fae8f583f1e5)\n",
              "        ;\n",
              "\n",
              "        \n",
              "    \n",
              "    \n",
              "            var marker_9015793600b31bf1da6948fb66a13567 = L.marker(\n",
              "                [35.06818796639191, 134.93110817117847],\n",
              "                {}\n",
              "            ).addTo(map_b5b89a4756db6a78297acc97fd322d30);\n",
              "        \n",
              "    \n",
              "            var icon_b128da618ad32a6d2c907c218785244d = L.AwesomeMarkers.icon(\n",
              "                {&quot;extraClasses&quot;: &quot;fa-rotate-0&quot;, &quot;icon&quot;: &quot;bookmark&quot;, &quot;iconColor&quot;: &quot;white&quot;, &quot;markerColor&quot;: &quot;lightgreen&quot;, &quot;prefix&quot;: &quot;glyphicon&quot;}\n",
              "            );\n",
              "            marker_9015793600b31bf1da6948fb66a13567.setIcon(icon_b128da618ad32a6d2c907c218785244d);\n",
              "        \n",
              "    \n",
              "        var popup_d8aee0de5f5246fc5041927e742801ba = L.popup({&quot;maxWidth&quot;: &quot;100%&quot;});\n",
              "\n",
              "        \n",
              "            \n",
              "                var html_ccadf5161a4962790c1a5fea2a03a773 = $(`&lt;div id=&quot;html_ccadf5161a4962790c1a5fea2a03a773&quot; style=&quot;width: 100.0%; height: 100.0%;&quot;&gt;&lt;b&gt;Hyogō&lt;b&gt;&lt;/div&gt;`)[0];\n",
              "                popup_d8aee0de5f5246fc5041927e742801ba.setContent(html_ccadf5161a4962790c1a5fea2a03a773);\n",
              "            \n",
              "        \n",
              "\n",
              "        marker_9015793600b31bf1da6948fb66a13567.bindPopup(popup_d8aee0de5f5246fc5041927e742801ba)\n",
              "        ;\n",
              "\n",
              "        \n",
              "    \n",
              "    \n",
              "            var marker_6b23e27b7e2172d1b440d44962e57768 = L.marker(\n",
              "                [34.3847520688948, 136.5925184242508],\n",
              "                {}\n",
              "            ).addTo(map_b5b89a4756db6a78297acc97fd322d30);\n",
              "        \n",
              "    \n",
              "            var icon_0afd508a4685cc51cf1774450be73ac6 = L.AwesomeMarkers.icon(\n",
              "                {&quot;extraClasses&quot;: &quot;fa-rotate-0&quot;, &quot;icon&quot;: &quot;flag&quot;, &quot;iconColor&quot;: &quot;white&quot;, &quot;markerColor&quot;: &quot;lightblue&quot;, &quot;prefix&quot;: &quot;glyphicon&quot;}\n",
              "            );\n",
              "            marker_6b23e27b7e2172d1b440d44962e57768.setIcon(icon_0afd508a4685cc51cf1774450be73ac6);\n",
              "        \n",
              "    \n",
              "        var popup_3366812c45c9475bac579af554c8c67d = L.popup({&quot;maxWidth&quot;: &quot;100%&quot;});\n",
              "\n",
              "        \n",
              "            \n",
              "                var html_700e8ed1bcd97f7edf484c43e075fb60 = $(`&lt;div id=&quot;html_700e8ed1bcd97f7edf484c43e075fb60&quot; style=&quot;width: 100.0%; height: 100.0%;&quot;&gt;&lt;b&gt;Mie&lt;b&gt;&lt;/div&gt;`)[0];\n",
              "                popup_3366812c45c9475bac579af554c8c67d.setContent(html_700e8ed1bcd97f7edf484c43e075fb60);\n",
              "            \n",
              "        \n",
              "\n",
              "        marker_6b23e27b7e2172d1b440d44962e57768.bindPopup(popup_3366812c45c9475bac579af554c8c67d)\n",
              "        ;\n",
              "\n",
              "        \n",
              "    \n",
              "    \n",
              "            tile_layer_10c3f95f59c2cd8f8a0118e8b022b29f.addTo(map_b5b89a4756db6a78297acc97fd322d30);\n",
              "        \n",
              "    \n",
              "            var marker_cee4d285cd33ef07e152f81c97efd3eb = L.marker(\n",
              "                [35.7715846369953, 140.38389179012245],\n",
              "                {}\n",
              "            ).addTo(map_b5b89a4756db6a78297acc97fd322d30);\n",
              "        \n",
              "    \n",
              "            var beautify_icon_27644b66e6569e0edd56ff252d8609ae = new L.BeautifyIcon.icon(\n",
              "                {&quot;backgroundColor&quot;: &quot;#FFF&quot;, &quot;borderColor&quot;: &quot;darkblue&quot;, &quot;borderWidth&quot;: 3, &quot;icon&quot;: &quot;plane&quot;, &quot;iconShape&quot;: &quot;circle&quot;, &quot;innerIconStyle&quot;: &quot;&quot;, &quot;isAlphaNumericIcon&quot;: false, &quot;spin&quot;: false, &quot;textColor&quot;: &quot;darkblue&quot;}\n",
              "            )\n",
              "            marker_cee4d285cd33ef07e152f81c97efd3eb.setIcon(beautify_icon_27644b66e6569e0edd56ff252d8609ae);\n",
              "        \n",
              "    \n",
              "        var popup_6f38f21d5634959e04b2e7e24f3ed1f1 = L.popup({&quot;maxWidth&quot;: &quot;100%&quot;});\n",
              "\n",
              "        \n",
              "            \n",
              "                var html_471063f89994ac5165e5e2f364bfea5a = $(`&lt;div id=&quot;html_471063f89994ac5165e5e2f364bfea5a&quot; style=&quot;width: 100.0%; height: 100.0%;&quot;&gt;Narita&lt;/div&gt;`)[0];\n",
              "                popup_6f38f21d5634959e04b2e7e24f3ed1f1.setContent(html_471063f89994ac5165e5e2f364bfea5a);\n",
              "            \n",
              "        \n",
              "\n",
              "        marker_cee4d285cd33ef07e152f81c97efd3eb.bindPopup(popup_6f38f21d5634959e04b2e7e24f3ed1f1)\n",
              "        ;\n",
              "\n",
              "        \n",
              "    \n",
              "    \n",
              "            var marker_a254440fc34ca72c33b33e839d1be931 = L.marker(\n",
              "                [36.237741, 140.278191],\n",
              "                {}\n",
              "            ).addTo(map_b5b89a4756db6a78297acc97fd322d30);\n",
              "        \n",
              "    \n",
              "            var icon_93c6c8e16f524ff2e769d41c8b8f918e = L.AwesomeMarkers.icon(\n",
              "                {&quot;extraClasses&quot;: &quot;fa-rotate-0&quot;, &quot;icon&quot;: &quot;info-sign&quot;, &quot;iconColor&quot;: &quot;white&quot;, &quot;markerColor&quot;: &quot;red&quot;, &quot;prefix&quot;: &quot;glyphicon&quot;}\n",
              "            );\n",
              "            marker_a254440fc34ca72c33b33e839d1be931.setIcon(icon_93c6c8e16f524ff2e769d41c8b8f918e);\n",
              "        \n",
              "    \n",
              "        var popup_d418caca936a2f9cfd772671d7a82ad1 = L.popup({&quot;maxWidth&quot;: &quot;100%&quot;});\n",
              "\n",
              "        \n",
              "            \n",
              "                var html_c7cbfd393ad321809bae32fc7b4c3be3 = $(`&lt;div id=&quot;html_c7cbfd393ad321809bae32fc7b4c3be3&quot; style=&quot;width: 100.0%; height: 100.0%;&quot;&gt;&lt;b&gt;Ibaraki&lt;b&gt;&lt;/div&gt;`)[0];\n",
              "                popup_d418caca936a2f9cfd772671d7a82ad1.setContent(html_c7cbfd393ad321809bae32fc7b4c3be3);\n",
              "            \n",
              "        \n",
              "\n",
              "        marker_a254440fc34ca72c33b33e839d1be931.bindPopup(popup_d418caca936a2f9cfd772671d7a82ad1)\n",
              "        ;\n",
              "\n",
              "        \n",
              "    \n",
              "    \n",
              "            var marker_d7d750231b790db743281740e38bc2ba = L.marker(\n",
              "                [35.06818796639191, 134.93110817117847],\n",
              "                {}\n",
              "            ).addTo(map_b5b89a4756db6a78297acc97fd322d30);\n",
              "        \n",
              "    \n",
              "            var icon_e5dd09aef9ce9ade4c55ed1eb5444036 = L.AwesomeMarkers.icon(\n",
              "                {&quot;extraClasses&quot;: &quot;fa-rotate-0&quot;, &quot;icon&quot;: &quot;bookmark&quot;, &quot;iconColor&quot;: &quot;white&quot;, &quot;markerColor&quot;: &quot;lightgreen&quot;, &quot;prefix&quot;: &quot;glyphicon&quot;}\n",
              "            );\n",
              "            marker_d7d750231b790db743281740e38bc2ba.setIcon(icon_e5dd09aef9ce9ade4c55ed1eb5444036);\n",
              "        \n",
              "    \n",
              "        var popup_28eaff0243f2c6dc570315ece5e1262f = L.popup({&quot;maxWidth&quot;: &quot;100%&quot;});\n",
              "\n",
              "        \n",
              "            \n",
              "                var html_4facdbe8799e7fea1144a74be63fe12a = $(`&lt;div id=&quot;html_4facdbe8799e7fea1144a74be63fe12a&quot; style=&quot;width: 100.0%; height: 100.0%;&quot;&gt;&lt;b&gt;Hyogō&lt;b&gt;&lt;/div&gt;`)[0];\n",
              "                popup_28eaff0243f2c6dc570315ece5e1262f.setContent(html_4facdbe8799e7fea1144a74be63fe12a);\n",
              "            \n",
              "        \n",
              "\n",
              "        marker_d7d750231b790db743281740e38bc2ba.bindPopup(popup_28eaff0243f2c6dc570315ece5e1262f)\n",
              "        ;\n",
              "\n",
              "        \n",
              "    \n",
              "    \n",
              "            var marker_f53437429464d6a8894a3fe389c65a4c = L.marker(\n",
              "                [34.3847520688948, 136.5925184242508],\n",
              "                {}\n",
              "            ).addTo(map_b5b89a4756db6a78297acc97fd322d30);\n",
              "        \n",
              "    \n",
              "            var icon_282ea8baf984f383f7af395bdb82839c = L.AwesomeMarkers.icon(\n",
              "                {&quot;extraClasses&quot;: &quot;fa-rotate-0&quot;, &quot;icon&quot;: &quot;flag&quot;, &quot;iconColor&quot;: &quot;white&quot;, &quot;markerColor&quot;: &quot;lightblue&quot;, &quot;prefix&quot;: &quot;glyphicon&quot;}\n",
              "            );\n",
              "            marker_f53437429464d6a8894a3fe389c65a4c.setIcon(icon_282ea8baf984f383f7af395bdb82839c);\n",
              "        \n",
              "    \n",
              "        var popup_ef6e2e067daf74ffdcd38c037b9a035e = L.popup({&quot;maxWidth&quot;: &quot;100%&quot;});\n",
              "\n",
              "        \n",
              "            \n",
              "                var html_541037cfb6fe544506bbbfa3d77458b1 = $(`&lt;div id=&quot;html_541037cfb6fe544506bbbfa3d77458b1&quot; style=&quot;width: 100.0%; height: 100.0%;&quot;&gt;&lt;b&gt;Mie&lt;b&gt;&lt;/div&gt;`)[0];\n",
              "                popup_ef6e2e067daf74ffdcd38c037b9a035e.setContent(html_541037cfb6fe544506bbbfa3d77458b1);\n",
              "            \n",
              "        \n",
              "\n",
              "        marker_f53437429464d6a8894a3fe389c65a4c.bindPopup(popup_ef6e2e067daf74ffdcd38c037b9a035e)\n",
              "        ;\n",
              "\n",
              "        \n",
              "    \n",
              "&lt;/script&gt;\n",
              "&lt;/html&gt;\" style=\"position:absolute;width:100%;height:100%;left:0;top:0;border:none !important;\" allowfullscreen webkitallowfullscreen mozallowfullscreen></iframe></div></div>"
            ]
          },
          "metadata": {},
          "execution_count": 51
        }
      ]
    },
    {
      "cell_type": "code",
      "source": [
        "# 자연어처리 기초\n",
        "\n",
        "s = 'no pain no gain'\n",
        "'pains' in s\n",
        "\n",
        "s.split()\n",
        "\n",
        "s.split().index('gain')\n",
        "\n",
        "s[-4:]\n",
        "\n",
        "s.split()[-3:]\n",
        "\n",
        "s.split()[2][::-1]\n",
        "\n",
        "s = \"한글도 처리 가능\"\n",
        "'한글' in s"
      ],
      "metadata": {
        "colab": {
          "base_uri": "https://localhost:8080/"
        },
        "id": "a61oIpuy9ulG",
        "outputId": "669c8aa9-8902-45f4-cd94-801883ca112f"
      },
      "execution_count": null,
      "outputs": [
        {
          "output_type": "execute_result",
          "data": {
            "text/plain": [
              "True"
            ]
          },
          "metadata": {},
          "execution_count": 84
        }
      ]
    },
    {
      "cell_type": "code",
      "source": [
        "s = 'AcbwrDbDaBD'\n",
        "str_lower = s.lower()\n",
        "str_upper = s.upper()\n",
        "print(str_lower, str_upper)"
      ],
      "metadata": {
        "colab": {
          "base_uri": "https://localhost:8080/"
        },
        "id": "iWxUSdAVATBb",
        "outputId": "2658199c-8cf0-4571-8228-4d58382afd01"
      },
      "execution_count": null,
      "outputs": [
        {
          "output_type": "stream",
          "name": "stdout",
          "text": [
            "acbwrdbdabd ACBWRDBDABD\n"
          ]
        }
      ]
    },
    {
      "cell_type": "code",
      "source": [
        "s = \"I visited Germany from the US in 22-07-24\"\n",
        "print(s)\n",
        "\n",
        "new_s = s.replace('US', 'United States').replace('24','2024') # replace(a,b): a를 b로 대체\n",
        "print(new_s)"
      ],
      "metadata": {
        "colab": {
          "base_uri": "https://localhost:8080/"
        },
        "id": "z1Mw2NA1ArM7",
        "outputId": "556fabf4-fea1-4f63-9c9f-529ec333bf34"
      },
      "execution_count": null,
      "outputs": [
        {
          "output_type": "stream",
          "name": "stdout",
          "text": [
            "I visited Germany from the US in 22-07-24\n",
            "I visited Germany from the United States in 22-07-2024\n"
          ]
        }
      ]
    },
    {
      "cell_type": "code",
      "source": [
        "import re\n",
        "\n",
        "check = 'abq..'\n",
        "\n",
        "print(re.match(check, 'abqwdwabelabgkqnlefknqlndc')) # 'abq.'는 중간에 'abq+~'의 형태가 아니라 단어 시작 때 'abq+알파벳1' 조합을 찾는 거인듯..\n",
        "print(re.match(check, 'cqdwqgneabh'))"
      ],
      "metadata": {
        "colab": {
          "base_uri": "https://localhost:8080/"
        },
        "id": "gjpFuuy6BXkc",
        "outputId": "3cd07673-338a-4bbc-ac64-0784b4becb14"
      },
      "execution_count": null,
      "outputs": [
        {
          "output_type": "stream",
          "name": "stdout",
          "text": [
            "<re.Match object; span=(0, 5), match='abqwd'>\n",
            "None\n"
          ]
        }
      ]
    },
    {
      "cell_type": "code",
      "source": [
        "import time\n",
        "\n",
        "normal_s_time = time.time()\n",
        "r = 'ab.'\n",
        "for i in range(1000):\n",
        "  re.match(check, 'abc')\n",
        "print('일반 사용시 소요 시간: ', time.time() - normal_s_time)\n",
        "\n",
        "compile_s_time = time.time()\n",
        "r = re.compile('ab.')\n",
        "for i in range(1000):\n",
        "  r.match(check)\n",
        "\n",
        "print('컴파일 사용시 소요시간: ', time.time() - compile_s_time)\n"
      ],
      "metadata": {
        "colab": {
          "base_uri": "https://localhost:8080/"
        },
        "id": "_BUy8WgYD8VI",
        "outputId": "299fd55a-14d0-4684-a242-54d1e04ac5bf"
      },
      "execution_count": null,
      "outputs": [
        {
          "output_type": "stream",
          "name": "stdout",
          "text": [
            "일반 사용시 소요 시간:  0.001699686050415039\n",
            "컴파일 사용시 소요시간:  0.0007817745208740234\n"
          ]
        }
      ]
    },
    {
      "cell_type": "code",
      "source": [
        "s = 'The Will to Truth, which is to tempt us to many a hazardous enterprise, the famous Truthfulness of which all philosophers have hitherto spoken with respect, what questions has this Will to Truth not laid before us! What strange, perplexing, questionable questions! It is already a long story; yet it seems as if it were hardly commenced. Is it any wonder if we at last grow distrustful, lose patience, and turn impatiently away? That this Sphinx teaches us at last to ask questions ourselves? WHO is it really that puts questions to us here? WHAT really is this \"Will to Truth\" in us? In fact we made a long halt at the question as to the origin of this Will—until at last we came to an absolute standstill before a yet more fundamental question. We inquired about the VALUE of this Will. Granted that we want the truth: WHY NOT RATHER untruth? And uncertainty? Even ignorance? The problem of the value of truth presented itself before us—or was it we who presented ourselves before the problem? Which of us is the Oedipus here? Which the Sphinx? It would seem to be a rendezvous of questions and notes of interrogation. And could it be believed that it at last seems to us as if the problem had never been propounded before, as if we were the first to discern it, get a sight of it, and RISK RAISING it? For there is risk in raising it, perhaps there is no greater risk.'\n",
        "\n",
        "s.split()"
      ],
      "metadata": {
        "colab": {
          "base_uri": "https://localhost:8080/"
        },
        "id": "80BqrWc0HEqK",
        "outputId": "b29c2454-b620-4c49-d3cf-cb35b1897c5d"
      },
      "execution_count": null,
      "outputs": [
        {
          "output_type": "execute_result",
          "data": {
            "text/plain": [
              "['The',\n",
              " 'Will',\n",
              " 'to',\n",
              " 'Truth,',\n",
              " 'which',\n",
              " 'is',\n",
              " 'to',\n",
              " 'tempt',\n",
              " 'us',\n",
              " 'to',\n",
              " 'many',\n",
              " 'a',\n",
              " 'hazardous',\n",
              " 'enterprise,',\n",
              " 'the',\n",
              " 'famous',\n",
              " 'Truthfulness',\n",
              " 'of',\n",
              " 'which',\n",
              " 'all',\n",
              " 'philosophers',\n",
              " 'have',\n",
              " 'hitherto',\n",
              " 'spoken',\n",
              " 'with',\n",
              " 'respect,',\n",
              " 'what',\n",
              " 'questions',\n",
              " 'has',\n",
              " 'this',\n",
              " 'Will',\n",
              " 'to',\n",
              " 'Truth',\n",
              " 'not',\n",
              " 'laid',\n",
              " 'before',\n",
              " 'us!',\n",
              " 'What',\n",
              " 'strange,',\n",
              " 'perplexing,',\n",
              " 'questionable',\n",
              " 'questions!',\n",
              " 'It',\n",
              " 'is',\n",
              " 'already',\n",
              " 'a',\n",
              " 'long',\n",
              " 'story;',\n",
              " 'yet',\n",
              " 'it',\n",
              " 'seems',\n",
              " 'as',\n",
              " 'if',\n",
              " 'it',\n",
              " 'were',\n",
              " 'hardly',\n",
              " 'commenced.',\n",
              " 'Is',\n",
              " 'it',\n",
              " 'any',\n",
              " 'wonder',\n",
              " 'if',\n",
              " 'we',\n",
              " 'at',\n",
              " 'last',\n",
              " 'grow',\n",
              " 'distrustful,',\n",
              " 'lose',\n",
              " 'patience,',\n",
              " 'and',\n",
              " 'turn',\n",
              " 'impatiently',\n",
              " 'away?',\n",
              " 'That',\n",
              " 'this',\n",
              " 'Sphinx',\n",
              " 'teaches',\n",
              " 'us',\n",
              " 'at',\n",
              " 'last',\n",
              " 'to',\n",
              " 'ask',\n",
              " 'questions',\n",
              " 'ourselves?',\n",
              " 'WHO',\n",
              " 'is',\n",
              " 'it',\n",
              " 'really',\n",
              " 'that',\n",
              " 'puts',\n",
              " 'questions',\n",
              " 'to',\n",
              " 'us',\n",
              " 'here?',\n",
              " 'WHAT',\n",
              " 'really',\n",
              " 'is',\n",
              " 'this',\n",
              " '\"Will',\n",
              " 'to',\n",
              " 'Truth\"',\n",
              " 'in',\n",
              " 'us?',\n",
              " 'In',\n",
              " 'fact',\n",
              " 'we',\n",
              " 'made',\n",
              " 'a',\n",
              " 'long',\n",
              " 'halt',\n",
              " 'at',\n",
              " 'the',\n",
              " 'question',\n",
              " 'as',\n",
              " 'to',\n",
              " 'the',\n",
              " 'origin',\n",
              " 'of',\n",
              " 'this',\n",
              " 'Will—until',\n",
              " 'at',\n",
              " 'last',\n",
              " 'we',\n",
              " 'came',\n",
              " 'to',\n",
              " 'an',\n",
              " 'absolute',\n",
              " 'standstill',\n",
              " 'before',\n",
              " 'a',\n",
              " 'yet',\n",
              " 'more',\n",
              " 'fundamental',\n",
              " 'question.',\n",
              " 'We',\n",
              " 'inquired',\n",
              " 'about',\n",
              " 'the',\n",
              " 'VALUE',\n",
              " 'of',\n",
              " 'this',\n",
              " 'Will.',\n",
              " 'Granted',\n",
              " 'that',\n",
              " 'we',\n",
              " 'want',\n",
              " 'the',\n",
              " 'truth:',\n",
              " 'WHY',\n",
              " 'NOT',\n",
              " 'RATHER',\n",
              " 'untruth?',\n",
              " 'And',\n",
              " 'uncertainty?',\n",
              " 'Even',\n",
              " 'ignorance?',\n",
              " 'The',\n",
              " 'problem',\n",
              " 'of',\n",
              " 'the',\n",
              " 'value',\n",
              " 'of',\n",
              " 'truth',\n",
              " 'presented',\n",
              " 'itself',\n",
              " 'before',\n",
              " 'us—or',\n",
              " 'was',\n",
              " 'it',\n",
              " 'we',\n",
              " 'who',\n",
              " 'presented',\n",
              " 'ourselves',\n",
              " 'before',\n",
              " 'the',\n",
              " 'problem?',\n",
              " 'Which',\n",
              " 'of',\n",
              " 'us',\n",
              " 'is',\n",
              " 'the',\n",
              " 'Oedipus',\n",
              " 'here?',\n",
              " 'Which',\n",
              " 'the',\n",
              " 'Sphinx?',\n",
              " 'It',\n",
              " 'would',\n",
              " 'seem',\n",
              " 'to',\n",
              " 'be',\n",
              " 'a',\n",
              " 'rendezvous',\n",
              " 'of',\n",
              " 'questions',\n",
              " 'and',\n",
              " 'notes',\n",
              " 'of',\n",
              " 'interrogation.',\n",
              " 'And',\n",
              " 'could',\n",
              " 'it',\n",
              " 'be',\n",
              " 'believed',\n",
              " 'that',\n",
              " 'it',\n",
              " 'at',\n",
              " 'last',\n",
              " 'seems',\n",
              " 'to',\n",
              " 'us',\n",
              " 'as',\n",
              " 'if',\n",
              " 'the',\n",
              " 'problem',\n",
              " 'had',\n",
              " 'never',\n",
              " 'been',\n",
              " 'propounded',\n",
              " 'before,',\n",
              " 'as',\n",
              " 'if',\n",
              " 'we',\n",
              " 'were',\n",
              " 'the',\n",
              " 'first',\n",
              " 'to',\n",
              " 'discern',\n",
              " 'it,',\n",
              " 'get',\n",
              " 'a',\n",
              " 'sight',\n",
              " 'of',\n",
              " 'it,',\n",
              " 'and',\n",
              " 'RISK',\n",
              " 'RAISING',\n",
              " 'it?',\n",
              " 'For',\n",
              " 'there',\n",
              " 'is',\n",
              " 'risk',\n",
              " 'in',\n",
              " 'raising',\n",
              " 'it,',\n",
              " 'perhaps',\n",
              " 'there',\n",
              " 'is',\n",
              " 'no',\n",
              " 'greater',\n",
              " 'risk.']"
            ]
          },
          "metadata": {},
          "execution_count": 88
        }
      ]
    },
    {
      "cell_type": "code",
      "source": [
        "import nltk\n",
        "\n",
        "from nltk.tokenize import word_tokenize\n",
        "nltk.download('punkt')\n",
        "\n",
        "sentence = 'The Will to Truth, which is to tempt us to many a hazardous enterprise, the famous Truthfulness of which all philosophers have hitherto spoken with respect, what questions has this Will to Truth not laid before us! What strange, perplexing, questionable questions! It is already a long story; yet it seems as if it were hardly commenced. Is it any wonder if we at last grow distrustful, lose patience, and turn impatiently away? That this Sphinx teaches us at last to ask questions ourselves? WHO is it really that puts questions to us here? WHAT really is this \"Will to Truth\" in us? In fact we made a long halt at the question as to the origin of this Will—until at last we came to an absolute standstill before a yet more fundamental question. We inquired about the VALUE of this Will. Granted that we want the truth: WHY NOT RATHER untruth? And uncertainty? Even ignorance? The problem of the value of truth presented itself before us—or was it we who presented ourselves before the problem? Which of us is the Oedipus here? Which the Sphinx? It would seem to be a rendezvous of questions and notes of interrogation. And could it be believed that it at last seems to us as if the problem had never been propounded before, as if we were the first to discern it, get a sight of it, and RISK RAISING it? For there is risk in raising it, perhaps there is no greater risk.'\n",
        "\n",
        "tokens = word_tokenize(sentence)\n",
        "tokens"
      ],
      "metadata": {
        "colab": {
          "base_uri": "https://localhost:8080/"
        },
        "id": "NyAaDXbwk39g",
        "outputId": "1b9c58bd-d2ba-427f-823c-f9e87c222fc3"
      },
      "execution_count": null,
      "outputs": [
        {
          "output_type": "stream",
          "name": "stderr",
          "text": [
            "[nltk_data] Downloading package punkt to /root/nltk_data...\n",
            "[nltk_data]   Unzipping tokenizers/punkt.zip.\n"
          ]
        },
        {
          "output_type": "execute_result",
          "data": {
            "text/plain": [
              "['The',\n",
              " 'Will',\n",
              " 'to',\n",
              " 'Truth',\n",
              " ',',\n",
              " 'which',\n",
              " 'is',\n",
              " 'to',\n",
              " 'tempt',\n",
              " 'us',\n",
              " 'to',\n",
              " 'many',\n",
              " 'a',\n",
              " 'hazardous',\n",
              " 'enterprise',\n",
              " ',',\n",
              " 'the',\n",
              " 'famous',\n",
              " 'Truthfulness',\n",
              " 'of',\n",
              " 'which',\n",
              " 'all',\n",
              " 'philosophers',\n",
              " 'have',\n",
              " 'hitherto',\n",
              " 'spoken',\n",
              " 'with',\n",
              " 'respect',\n",
              " ',',\n",
              " 'what',\n",
              " 'questions',\n",
              " 'has',\n",
              " 'this',\n",
              " 'Will',\n",
              " 'to',\n",
              " 'Truth',\n",
              " 'not',\n",
              " 'laid',\n",
              " 'before',\n",
              " 'us',\n",
              " '!',\n",
              " 'What',\n",
              " 'strange',\n",
              " ',',\n",
              " 'perplexing',\n",
              " ',',\n",
              " 'questionable',\n",
              " 'questions',\n",
              " '!',\n",
              " 'It',\n",
              " 'is',\n",
              " 'already',\n",
              " 'a',\n",
              " 'long',\n",
              " 'story',\n",
              " ';',\n",
              " 'yet',\n",
              " 'it',\n",
              " 'seems',\n",
              " 'as',\n",
              " 'if',\n",
              " 'it',\n",
              " 'were',\n",
              " 'hardly',\n",
              " 'commenced',\n",
              " '.',\n",
              " 'Is',\n",
              " 'it',\n",
              " 'any',\n",
              " 'wonder',\n",
              " 'if',\n",
              " 'we',\n",
              " 'at',\n",
              " 'last',\n",
              " 'grow',\n",
              " 'distrustful',\n",
              " ',',\n",
              " 'lose',\n",
              " 'patience',\n",
              " ',',\n",
              " 'and',\n",
              " 'turn',\n",
              " 'impatiently',\n",
              " 'away',\n",
              " '?',\n",
              " 'That',\n",
              " 'this',\n",
              " 'Sphinx',\n",
              " 'teaches',\n",
              " 'us',\n",
              " 'at',\n",
              " 'last',\n",
              " 'to',\n",
              " 'ask',\n",
              " 'questions',\n",
              " 'ourselves',\n",
              " '?',\n",
              " 'WHO',\n",
              " 'is',\n",
              " 'it',\n",
              " 'really',\n",
              " 'that',\n",
              " 'puts',\n",
              " 'questions',\n",
              " 'to',\n",
              " 'us',\n",
              " 'here',\n",
              " '?',\n",
              " 'WHAT',\n",
              " 'really',\n",
              " 'is',\n",
              " 'this',\n",
              " '``',\n",
              " 'Will',\n",
              " 'to',\n",
              " 'Truth',\n",
              " \"''\",\n",
              " 'in',\n",
              " 'us',\n",
              " '?',\n",
              " 'In',\n",
              " 'fact',\n",
              " 'we',\n",
              " 'made',\n",
              " 'a',\n",
              " 'long',\n",
              " 'halt',\n",
              " 'at',\n",
              " 'the',\n",
              " 'question',\n",
              " 'as',\n",
              " 'to',\n",
              " 'the',\n",
              " 'origin',\n",
              " 'of',\n",
              " 'this',\n",
              " 'Will—until',\n",
              " 'at',\n",
              " 'last',\n",
              " 'we',\n",
              " 'came',\n",
              " 'to',\n",
              " 'an',\n",
              " 'absolute',\n",
              " 'standstill',\n",
              " 'before',\n",
              " 'a',\n",
              " 'yet',\n",
              " 'more',\n",
              " 'fundamental',\n",
              " 'question',\n",
              " '.',\n",
              " 'We',\n",
              " 'inquired',\n",
              " 'about',\n",
              " 'the',\n",
              " 'VALUE',\n",
              " 'of',\n",
              " 'this',\n",
              " 'Will',\n",
              " '.',\n",
              " 'Granted',\n",
              " 'that',\n",
              " 'we',\n",
              " 'want',\n",
              " 'the',\n",
              " 'truth',\n",
              " ':',\n",
              " 'WHY',\n",
              " 'NOT',\n",
              " 'RATHER',\n",
              " 'untruth',\n",
              " '?',\n",
              " 'And',\n",
              " 'uncertainty',\n",
              " '?',\n",
              " 'Even',\n",
              " 'ignorance',\n",
              " '?',\n",
              " 'The',\n",
              " 'problem',\n",
              " 'of',\n",
              " 'the',\n",
              " 'value',\n",
              " 'of',\n",
              " 'truth',\n",
              " 'presented',\n",
              " 'itself',\n",
              " 'before',\n",
              " 'us—or',\n",
              " 'was',\n",
              " 'it',\n",
              " 'we',\n",
              " 'who',\n",
              " 'presented',\n",
              " 'ourselves',\n",
              " 'before',\n",
              " 'the',\n",
              " 'problem',\n",
              " '?',\n",
              " 'Which',\n",
              " 'of',\n",
              " 'us',\n",
              " 'is',\n",
              " 'the',\n",
              " 'Oedipus',\n",
              " 'here',\n",
              " '?',\n",
              " 'Which',\n",
              " 'the',\n",
              " 'Sphinx',\n",
              " '?',\n",
              " 'It',\n",
              " 'would',\n",
              " 'seem',\n",
              " 'to',\n",
              " 'be',\n",
              " 'a',\n",
              " 'rendezvous',\n",
              " 'of',\n",
              " 'questions',\n",
              " 'and',\n",
              " 'notes',\n",
              " 'of',\n",
              " 'interrogation',\n",
              " '.',\n",
              " 'And',\n",
              " 'could',\n",
              " 'it',\n",
              " 'be',\n",
              " 'believed',\n",
              " 'that',\n",
              " 'it',\n",
              " 'at',\n",
              " 'last',\n",
              " 'seems',\n",
              " 'to',\n",
              " 'us',\n",
              " 'as',\n",
              " 'if',\n",
              " 'the',\n",
              " 'problem',\n",
              " 'had',\n",
              " 'never',\n",
              " 'been',\n",
              " 'propounded',\n",
              " 'before',\n",
              " ',',\n",
              " 'as',\n",
              " 'if',\n",
              " 'we',\n",
              " 'were',\n",
              " 'the',\n",
              " 'first',\n",
              " 'to',\n",
              " 'discern',\n",
              " 'it',\n",
              " ',',\n",
              " 'get',\n",
              " 'a',\n",
              " 'sight',\n",
              " 'of',\n",
              " 'it',\n",
              " ',',\n",
              " 'and',\n",
              " 'RISK',\n",
              " 'RAISING',\n",
              " 'it',\n",
              " '?',\n",
              " 'For',\n",
              " 'there',\n",
              " 'is',\n",
              " 'risk',\n",
              " 'in',\n",
              " 'raising',\n",
              " 'it',\n",
              " ',',\n",
              " 'perhaps',\n",
              " 'there',\n",
              " 'is',\n",
              " 'no',\n",
              " 'greater',\n",
              " 'risk',\n",
              " '.']"
            ]
          },
          "metadata": {},
          "execution_count": 5
        }
      ]
    },
    {
      "cell_type": "code",
      "source": [
        "sentences = 'I am a kid.\\nI dunno what to say.'\n",
        "print(sentences)\n",
        "\n",
        "tokens = [x for x in sentences.split('\\n')]\n",
        "tokens"
      ],
      "metadata": {
        "colab": {
          "base_uri": "https://localhost:8080/"
        },
        "id": "dTQK7uy0l67B",
        "outputId": "fc1e312b-d850-42d2-8516-fe11fd6d2e34"
      },
      "execution_count": null,
      "outputs": [
        {
          "output_type": "stream",
          "name": "stdout",
          "text": [
            "I am a kid.\n",
            "I dunno what to say.\n"
          ]
        },
        {
          "output_type": "execute_result",
          "data": {
            "text/plain": [
              "['I am a kid.', 'I dunno what to say.']"
            ]
          },
          "metadata": {},
          "execution_count": 10
        }
      ]
    },
    {
      "cell_type": "code",
      "source": [
        "from nltk.tokenize import sent_tokenize\n",
        "\n",
        "tokens = sent_tokenize(sentences)\n",
        "tokens"
      ],
      "metadata": {
        "colab": {
          "base_uri": "https://localhost:8080/"
        },
        "id": "JgDsxQEmlrHO",
        "outputId": "2377ac10-6523-4498-82c1-ecd241d3630c"
      },
      "execution_count": null,
      "outputs": [
        {
          "output_type": "execute_result",
          "data": {
            "text/plain": [
              "['I am a kid.', 'I dunno what to say.']"
            ]
          },
          "metadata": {},
          "execution_count": 12
        }
      ]
    },
    {
      "cell_type": "code",
      "source": [
        "from nltk.tokenize import RegexpTokenizer\n",
        "\n",
        "sentence = 'What made you2 think I am a kid^^?'\n",
        "tokenizer = RegexpTokenizer(\"[\\w]+\")\n",
        "tokens = tokenizer.tokenize(sentence)\n",
        "tokens"
      ],
      "metadata": {
        "colab": {
          "base_uri": "https://localhost:8080/"
        },
        "id": "77xClNDXm_mY",
        "outputId": "85d57623-09bb-47bb-a64e-c61927443c74"
      },
      "execution_count": null,
      "outputs": [
        {
          "output_type": "execute_result",
          "data": {
            "text/plain": [
              "['What', 'made', 'you2', 'think', 'I', 'am', 'a', 'kid']"
            ]
          },
          "metadata": {},
          "execution_count": 17
        }
      ]
    },
    {
      "cell_type": "code",
      "source": [
        "tokenizer = RegexpTokenizer(\"[\\s]+\", gaps = True)\n",
        "tokens = tokenizer.tokenize(sentence)\n",
        "tokens"
      ],
      "metadata": {
        "colab": {
          "base_uri": "https://localhost:8080/"
        },
        "id": "62G9_OtjoZMP",
        "outputId": "6c4f8480-07b2-4b1f-961d-3958d26aedfd"
      },
      "execution_count": null,
      "outputs": [
        {
          "output_type": "execute_result",
          "data": {
            "text/plain": [
              "['What', 'made', 'you2', 'think', 'I', 'am', 'a', 'kid^^?']"
            ]
          },
          "metadata": {},
          "execution_count": 21
        }
      ]
    },
    {
      "cell_type": "code",
      "source": [
        "from textblob import TextBlob\n",
        "\n",
        "sentence = 'What made you2 think I am a kid^^?'\n",
        "blob = TextBlob(sentence)\n",
        "blob.words"
      ],
      "metadata": {
        "colab": {
          "base_uri": "https://localhost:8080/"
        },
        "id": "wwVCMRDFpRkg",
        "outputId": "740b3cba-7c36-4da8-edd4-dbb96d6e143a"
      },
      "execution_count": null,
      "outputs": [
        {
          "output_type": "execute_result",
          "data": {
            "text/plain": [
              "WordList(['What', 'made', 'you2', 'think', 'I', 'am', 'a', 'kid'])"
            ]
          },
          "metadata": {},
          "execution_count": 23
        }
      ]
    },
    {
      "cell_type": "code",
      "source": [
        "# 군집분석에서 자카드 유사도: 두 텍스트 간 공통된 용어 수 + 텍스트 내 고유용어 수의 비율\n",
        "\n",
        "nltk.download('wordnet')\n",
        "\n",
        "from nltk.stem import WordNetLemmatizer\n",
        "from sklearn.feature_extraction."
      ],
      "metadata": {
        "id": "EniL_BZop6yf"
      },
      "execution_count": null,
      "outputs": []
    },
    {
      "cell_type": "code",
      "source": [
        "stop_words = \"the a an\"\n",
        "stop_words = stop_words.split(',')\n",
        "stop_words\n"
      ],
      "metadata": {
        "colab": {
          "base_uri": "https://localhost:8080/"
        },
        "id": "mYwaXdF27ZlW",
        "outputId": "368e3d3f-9bcb-4010-b03b-6add3d79470a"
      },
      "execution_count": null,
      "outputs": [
        {
          "output_type": "execute_result",
          "data": {
            "text/plain": [
              "['the a an']"
            ]
          },
          "metadata": {},
          "execution_count": 4
        }
      ]
    },
    {
      "cell_type": "code",
      "source": [
        "import nltk\n",
        "nltk.download('stopwords')\n",
        "\n",
        "stop_words = \"the a an\"\n",
        "stop_words = stop_words.split(' ')\n",
        "stop_words\n",
        "\n",
        "sentence = 'the development of a public culture with a global implication'\n",
        "sentence = sentence.split(' ')\n",
        "nouns = []\n",
        "for noun in sentence:\n",
        "  if noun not in stop_words:\n",
        "    nouns.append(noun)\n",
        "\n",
        "nouns"
      ],
      "metadata": {
        "colab": {
          "base_uri": "https://localhost:8080/"
        },
        "id": "Bk-K1ZKB7rFB",
        "outputId": "12447fb2-4f60-434d-e3e9-0cae0ef18438"
      },
      "execution_count": null,
      "outputs": [
        {
          "output_type": "stream",
          "name": "stderr",
          "text": [
            "[nltk_data] Downloading package stopwords to /root/nltk_data...\n",
            "[nltk_data]   Package stopwords is already up-to-date!\n"
          ]
        },
        {
          "output_type": "execute_result",
          "data": {
            "text/plain": [
              "['development', 'of', 'public', 'culture', 'with', 'global', 'implication']"
            ]
          },
          "metadata": {},
          "execution_count": 16
        }
      ]
    },
    {
      "cell_type": "code",
      "source": [
        "sentence = 'the development of a public culture with a global implication'\n",
        "sentence = sentence.split(' ')\n",
        "nouns = []\n",
        "for noun in sentence:\n",
        "  if noun not in stop_words:\n",
        "    nouns.append(noun)\n",
        "\n",
        "nouns"
      ],
      "metadata": {
        "colab": {
          "base_uri": "https://localhost:8080/"
        },
        "id": "NByrjnMr8Z7l",
        "outputId": "8445c108-af75-44e9-94b0-d6105a07a933"
      },
      "execution_count": null,
      "outputs": [
        {
          "output_type": "execute_result",
          "data": {
            "text/plain": [
              "['the',\n",
              " 'development',\n",
              " 'of',\n",
              " 'a',\n",
              " 'public',\n",
              " 'culture',\n",
              " 'with',\n",
              " 'a',\n",
              " 'global',\n",
              " 'implication']"
            ]
          },
          "metadata": {},
          "execution_count": 11
        }
      ]
    },
    {
      "cell_type": "code",
      "source": [
        "import nltk\n",
        "\n",
        "sentence = 'The Deutsche Bahn is an unreliable company.'\n",
        "sentence = sentence.split(' ')\n",
        "\n",
        "sentence"
      ],
      "metadata": {
        "colab": {
          "base_uri": "https://localhost:8080/"
        },
        "id": "RFdPpW9BdpC7",
        "outputId": "add1c997-0c8e-4312-d33a-41a0a3e053b4"
      },
      "execution_count": null,
      "outputs": [
        {
          "output_type": "execute_result",
          "data": {
            "text/plain": [
              "['Deutsche', 'Bahn', 'is', 'an', 'unreliable', 'company.']"
            ]
          },
          "metadata": {},
          "execution_count": 3
        }
      ]
    },
    {
      "cell_type": "code",
      "source": [
        "stop_words = \"the,a,an\"\n",
        "stop_words = stop_words.split(',')\n",
        "stop_words\n",
        "\n",
        "nouns = []\n",
        "for noun in sentence:\n",
        "  if noun not in stop_words:\n",
        "    nouns.append(noun)\n",
        "\n",
        "nouns"
      ],
      "metadata": {
        "colab": {
          "base_uri": "https://localhost:8080/"
        },
        "id": "Eng55k6GlbC2",
        "outputId": "a509687b-51c2-4b4d-c0ee-276aecaa9c88"
      },
      "execution_count": null,
      "outputs": [
        {
          "output_type": "execute_result",
          "data": {
            "text/plain": [
              "['Deutsche', 'Bahn', 'is', 'unreliable', 'company.']"
            ]
          },
          "metadata": {},
          "execution_count": 11
        }
      ]
    },
    {
      "cell_type": "code",
      "source": [
        "print(5/6)\n",
        "\n",
        "print('곰돌찡')\n",
        "print(('곰돌찡' + '토끼찡')*9)\n",
        "\n",
        "type (not True)\n",
        "\n",
        "print(True)\n",
        "print(not (3>5)) # not 붙이면 반대라는 뜻\n",
        "\n",
        "name = '곰돌찡'\n",
        "animal = '곰'\n",
        "age = 34\n",
        "is_adult = age >= 20\n",
        "\n",
        "print(name + '은 ' + str(age) + '살 ' + animal + '입니다')\n",
        "print(name + '은 ' + '토끼찡의 남친입니다')\n",
        "print(name + '은 ' + '어른일까요? ' + str(is_adult))\n",
        "\n",
        "print(name,'은 ', age,'살 ', animal,'입니다')\n",
        "print(name + '은 ' + '토끼찡의 남친입니다')\n",
        "print(name + '은 ' + '어른일까요? ' + str(is_adult))\n"
      ],
      "metadata": {
        "colab": {
          "base_uri": "https://localhost:8080/"
        },
        "id": "I6mfmfnIq2Wu",
        "outputId": "26d8773c-7d7b-42ca-9df5-13c0ac19274c"
      },
      "execution_count": null,
      "outputs": [
        {
          "output_type": "stream",
          "name": "stdout",
          "text": [
            "0.8333333333333334\n",
            "곰돌찡\n",
            "곰돌찡토끼찡곰돌찡토끼찡곰돌찡토끼찡곰돌찡토끼찡곰돌찡토끼찡곰돌찡토끼찡곰돌찡토끼찡곰돌찡토끼찡곰돌찡토끼찡\n",
            "True\n",
            "True\n",
            "곰돌찡은 34살 곰입니다\n",
            "곰돌찡은 토끼찡의 남친입니다\n",
            "곰돌찡은 어른일까요? True\n",
            "곰돌찡 은  34 살  곰 입니다\n",
            "곰돌찡은 토끼찡의 남친입니다\n",
            "곰돌찡은 어른일까요? True\n"
          ]
        }
      ]
    },
    {
      "cell_type": "code",
      "source": [
        "name = '곰돌찡'\n",
        "animal = '곰'\n",
        "age = 34\n",
        "is_adult = age >= 20\n",
        "\n",
        "print(name + '은 ' + str(age)) # +가 아니라 ,로 연결할 때는 정수를 str로 안 감싸도 됨\n",
        "'''주석처리 (작따 3개)''' # 코드 드래그 하고 command + / 눌러도 초록 주석처리"
      ],
      "metadata": {
        "id": "tYM-rSIXunIJ",
        "colab": {
          "base_uri": "https://localhost:8080/"
        },
        "outputId": "2f0dd45a-6b98-48d7-c6a8-93fd02d6ecae"
      },
      "execution_count": null,
      "outputs": [
        {
          "output_type": "stream",
          "name": "stdout",
          "text": [
            "곰돌찡은 34\n"
          ]
        }
      ]
    },
    {
      "cell_type": "code",
      "source": [
        "station = '남춘천'\n",
        "#  '인천공항', '신도림', '사당'\n",
        "\n",
        "print(station + '행 열차가 들어오고 있습니다')"
      ],
      "metadata": {
        "colab": {
          "base_uri": "https://localhost:8080/"
        },
        "id": "kGHAI9E09lx8",
        "outputId": "ed5da5b7-d387-41c1-a647-6e93bc8eded4"
      },
      "execution_count": null,
      "outputs": [
        {
          "output_type": "stream",
          "name": "stdout",
          "text": [
            "남춘천행 열차가 들어오고 있습니다\n"
          ]
        }
      ]
    },
    {
      "cell_type": "code",
      "source": [
        "print(126**26)  # 제곱 ex)3**2 = 3의 2승\n",
        "print(1263%17) # 나머지\n",
        "print(1263//17) # 몫\n",
        "print(1263 >= 1263)\n",
        "print(1263 == 1264) # 같다 (정의가 아닌 수학에서의 등호)\n",
        "print(1263 != 1263)\n",
        "print(not(1263 != 1263))\n",
        "print((1632 > 1632) and (1262 > 1265))\n",
        "print((1611 > 1621) or (1063 > 1123)) # 둘중에 하나만 만족하면 True"
      ],
      "metadata": {
        "colab": {
          "base_uri": "https://localhost:8080/"
        },
        "id": "b_InNeWo-a1X",
        "outputId": "ddd91757-1688-45fe-e3b0-d82e32d6ae15"
      },
      "execution_count": null,
      "outputs": [
        {
          "output_type": "stream",
          "name": "stdout",
          "text": [
            "4070372664654465530250383124087780456374195854692581376\n",
            "5\n",
            "74\n",
            "True\n",
            "False\n",
            "False\n",
            "True\n",
            "False\n",
            "False\n"
          ]
        }
      ]
    },
    {
      "cell_type": "code",
      "source": [
        "number = 1252\n",
        "number = number + 2\n",
        "print(number)\n",
        "\n",
        "number += 2\n",
        "print(number) #1256\n",
        "\n",
        "number -= 2\n",
        "print(number)"
      ],
      "metadata": {
        "colab": {
          "base_uri": "https://localhost:8080/"
        },
        "id": "xYd7rPHiAt26",
        "outputId": "3be0cf90-9cad-4b02-8ece-01f1736248f9"
      },
      "execution_count": null,
      "outputs": [
        {
          "output_type": "stream",
          "name": "stdout",
          "text": [
            "1254\n",
            "1256\n",
            "1254\n"
          ]
        }
      ]
    },
    {
      "cell_type": "code",
      "source": [
        "abs(-1234) # abs() = 절대값\n",
        "pow(5, 3) # pow(a, b) = a의 b승\n",
        "max(1231, 125) # max() = 최댓값\n",
        "min(1231, 125) # min() = 최솟값\n",
        "round(512.51) # round() = 반올림\n",
        "\n",
        "from math import *\n",
        "\n",
        "floor(3.99)\n",
        "ceil(3.15)\n",
        "sqrt(72)"
      ],
      "metadata": {
        "colab": {
          "base_uri": "https://localhost:8080/"
        },
        "id": "_5K3VOpPBfi3",
        "outputId": "5709d93c-a59a-4b20-8992-351e709ec583"
      },
      "execution_count": null,
      "outputs": [
        {
          "output_type": "execute_result",
          "data": {
            "text/plain": [
              "8.48528137423857"
            ]
          },
          "metadata": {},
          "execution_count": 55
        }
      ]
    },
    {
      "cell_type": "code",
      "source": [
        "from random import *\n",
        "\n",
        "print(random()) # 기본으로 0 ~ 1.0 사이 (1 \"미만\") 값 랜덤 생성\n",
        "print(random() * 10) # 0 ~ 10\n",
        "print(int(random() * 100) + 125) # 0 ~ 100 + 125\n",
        "int(random() * 45) # 0 ~ 45\n",
        "\n",
        "print(randrange(1, 45)) # 1부터 45 \"미만\"\n",
        "print(randint(1, 45)) # 1부터 45 \"이하\""
      ],
      "metadata": {
        "colab": {
          "base_uri": "https://localhost:8080/"
        },
        "id": "lC8ztR_cC5LV",
        "outputId": "04b691f2-fe23-4c20-d3ce-2c9c2afdffca"
      },
      "execution_count": null,
      "outputs": [
        {
          "output_type": "stream",
          "name": "stdout",
          "text": [
            "0.030996270755499156\n",
            "0.09567991754340976\n",
            "153\n",
            "12\n",
            "29\n"
          ]
        }
      ]
    },
    {
      "cell_type": "code",
      "source": [
        "x = randrange(4, 29)\n",
        "\n",
        "print('오프라인 스터디 모임 날짜는 매월 ' + str(x) + '일로 선정되었습니다')"
      ],
      "metadata": {
        "colab": {
          "base_uri": "https://localhost:8080/",
          "height": 180
        },
        "id": "r0GeJnbSEMZ8",
        "outputId": "1554862b-3e54-4ab9-b564-32f66c1636ec"
      },
      "execution_count": null,
      "outputs": [
        {
          "output_type": "error",
          "ename": "NameError",
          "evalue": "name 'randrange' is not defined",
          "traceback": [
            "\u001b[0;31m---------------------------------------------------------------------------\u001b[0m",
            "\u001b[0;31mNameError\u001b[0m                                 Traceback (most recent call last)",
            "\u001b[0;32m<ipython-input-1-7b3fafb22005>\u001b[0m in \u001b[0;36m<cell line: 1>\u001b[0;34m()\u001b[0m\n\u001b[0;32m----> 1\u001b[0;31m \u001b[0mx\u001b[0m \u001b[0;34m=\u001b[0m \u001b[0mrandrange\u001b[0m\u001b[0;34m(\u001b[0m\u001b[0;36m4\u001b[0m\u001b[0;34m,\u001b[0m \u001b[0;36m29\u001b[0m\u001b[0;34m)\u001b[0m\u001b[0;34m\u001b[0m\u001b[0;34m\u001b[0m\u001b[0m\n\u001b[0m\u001b[1;32m      2\u001b[0m \u001b[0;34m\u001b[0m\u001b[0m\n\u001b[1;32m      3\u001b[0m \u001b[0mprint\u001b[0m\u001b[0;34m(\u001b[0m\u001b[0;34m'오프라인 스터디 모임 날짜는 매월 '\u001b[0m \u001b[0;34m+\u001b[0m \u001b[0mstr\u001b[0m\u001b[0;34m(\u001b[0m\u001b[0mx\u001b[0m\u001b[0;34m)\u001b[0m \u001b[0;34m+\u001b[0m \u001b[0;34m'일로 선정되었습니다'\u001b[0m\u001b[0;34m)\u001b[0m\u001b[0;34m\u001b[0m\u001b[0;34m\u001b[0m\u001b[0m\n",
            "\u001b[0;31mNameError\u001b[0m: name 'randrange' is not defined"
          ]
        }
      ]
    },
    {
      "cell_type": "code",
      "source": [
        "from random import *\n",
        "\n",
        "print(random() * 200)"
      ],
      "metadata": {
        "colab": {
          "base_uri": "https://localhost:8080/"
        },
        "id": "GFBD1jvDcEnO",
        "outputId": "777beb12-a792-4373-c35c-a1b46846e837"
      },
      "execution_count": null,
      "outputs": [
        {
          "output_type": "stream",
          "name": "stdout",
          "text": [
            "76.50171898504772\n"
          ]
        }
      ]
    },
    {
      "cell_type": "code",
      "source": [
        "sentence = '나는 곰돌찡입니다'\n",
        "print(sentence)\n",
        "\n",
        "sentence2 = \"곰돌찡은 귀엽습니다\"\n",
        "\n",
        "sentence3 = \"\"\"\n",
        "음 뭐라고 할까,\n",
        "토끼찡 안녕\n",
        "\"\"\"\n",
        "print(sentence3)"
      ],
      "metadata": {
        "colab": {
          "base_uri": "https://localhost:8080/"
        },
        "id": "i_I37Xp6cXmh",
        "outputId": "715c073b-f49f-4d34-eafe-2fea55468c59"
      },
      "execution_count": null,
      "outputs": [
        {
          "output_type": "stream",
          "name": "stdout",
          "text": [
            "나는 곰돌찡입니다\n",
            "\n",
            "음 뭐라고 할까,\n",
            "토끼찡 안녕\n",
            "\n"
          ]
        }
      ]
    },
    {
      "cell_type": "code",
      "source": [
        "jumin = '981223-1664522'\n",
        "\n",
        "print(\"성별 : \" + jumin[7]) # '-'도 포함해야\n",
        "print(\"연 : \" + jumin[0:2]) # 0부터 2직전(미만)\n",
        "print(\"월 : \" + jumin[2:4])\n",
        "print(\"일 : \" + jumin[4:6])\n",
        "\n",
        "print(\"생년월일 : \" + jumin[0:6])\n",
        "print(\"생년월일 : \" + jumin[:6])\n",
        "print(\"뒤 7자리 : \" + jumin[7:14])\n",
        "print(\"뒤 7자리 : \" + jumin[7:]) # 마지막 숫자까지 할때는 마지막이 몇 번째인지 안써도 됨\n",
        "print(\"뒤 7자리 (뒤에부터) : \" + jumin[-7:-1])\n"
      ],
      "metadata": {
        "colab": {
          "base_uri": "https://localhost:8080/"
        },
        "id": "tx5rKPZhc8a-",
        "outputId": "95fdbe7a-179f-46d5-ed3a-6036475f5c56"
      },
      "execution_count": null,
      "outputs": [
        {
          "output_type": "stream",
          "name": "stdout",
          "text": [
            "성별 : 1\n",
            "연 : 98\n",
            "월 : 12\n",
            "일 : 23\n",
            "생년월일 : 981223\n",
            "생년월일 : 981223\n",
            "뒤 7자리 : 1664522\n",
            "뒤 7자리 : 1664522\n",
            "뒤 7자리 (뒤에부터) : 166452\n"
          ]
        }
      ]
    },
    {
      "cell_type": "code",
      "source": [
        "random = '123-53463-1253'\n",
        "\n",
        "print(\"지역 : \" + random[0:5])"
      ],
      "metadata": {
        "id": "5dQAyqtree_7",
        "colab": {
          "base_uri": "https://localhost:8080/"
        },
        "outputId": "1191dc77-9770-490e-eae4-4837a364a647"
      },
      "execution_count": null,
      "outputs": [
        {
          "output_type": "stream",
          "name": "stdout",
          "text": [
            "지역 : 123-5\n"
          ]
        }
      ]
    },
    {
      "cell_type": "code",
      "source": [
        "sentence = 'I am a Gomdolzzing.'\n",
        "\n",
        "print(sentence.lower())\n",
        "print(sentence.upper())\n",
        "\n",
        "print(sentence.islower())\n",
        "\n",
        "len(sentence) # length에는 스페이스, 온점 등 포함 (모든 형태의 입력값이 한 칸 차지)\n",
        "\n",
        "sentence.replace(\"Gomdolzzing\", \"Tokkizzing\") # 곰을 토로"
      ],
      "metadata": {
        "colab": {
          "base_uri": "https://localhost:8080/",
          "height": 89
        },
        "id": "X-rczBCsxJlb",
        "outputId": "723a4ced-1b64-4233-871c-5b73a12d03c0"
      },
      "execution_count": null,
      "outputs": [
        {
          "output_type": "stream",
          "name": "stdout",
          "text": [
            "i am a gomdolzzing.\n",
            "I AM A GOMDOLZZING.\n",
            "False\n"
          ]
        },
        {
          "output_type": "execute_result",
          "data": {
            "text/plain": [
              "'I am a Tokkizzing.'"
            ],
            "application/vnd.google.colaboratory.intrinsic+json": {
              "type": "string"
            }
          },
          "metadata": {},
          "execution_count": 25
        }
      ]
    },
    {
      "cell_type": "code",
      "source": [
        "sentence = 'I am a Gomdolzzing and Tokkizzing.'\n",
        "\n",
        "index = sentence.index(\"zzing\") # 몇번째에 있는지, but 이 경우 zzing에서 맨 앞 글자인 z 기준으로 결과가 나옴\n",
        "print(index)\n",
        "\n",
        "index = sentence.index(\"zzing\", index + 1) # 첫 번째 zzing의 앞글자(z, 13)+1인 14부터 다음 zzing이 어디 나오는지\n",
        "print(index)\n",
        "\n",
        "sentence.find(\"Tokkizzing\") # 반복되는 건 못 찾나?\n",
        "sentence.index(\"zzing\")\n",
        "\n",
        "sentence.count(\"zzing\")"
      ],
      "metadata": {
        "colab": {
          "base_uri": "https://localhost:8080/"
        },
        "id": "3-70MQLRyvuF",
        "outputId": "4437e002-7058-40c0-c9e7-ade3409483ae"
      },
      "execution_count": null,
      "outputs": [
        {
          "output_type": "stream",
          "name": "stdout",
          "text": [
            "13\n",
            "28\n"
          ]
        },
        {
          "output_type": "execute_result",
          "data": {
            "text/plain": [
              "2"
            ]
          },
          "metadata": {},
          "execution_count": 55
        }
      ]
    },
    {
      "cell_type": "code",
      "source": [
        "# 문자열 포맷\n",
        "\n",
        "print(\"곰돌찡 %i입니다.\" % 20) # % 뒤의 값을 앞 %에 삽입\n",
        "\n",
        "print(\"곰돌찡은 {1}과 {1}을 좋아합니다.\".format(\"놀기\", \"운동\", \"게임\")) # %대신 사용하는 방법으로 '{}+format()'\n",
        "\n",
        "print(\"곰돌찡은 {year}년생이며, {성별}입니다\".format(year = 1991, 성별 = \"남자\")) # format 안에서 변수 정의\n",
        "\n",
        "print(\"토끼찡은 %s색과 %s색을 좋아합니다.\" % (\"핑크\", \"노란\")) # 큰 따옴표로 문장 만들어주고 그 뒤에 '%()'의 형태 삽입"
      ],
      "metadata": {
        "colab": {
          "base_uri": "https://localhost:8080/"
        },
        "id": "7lBflLr30dPw",
        "outputId": "2f4d8ff8-3398-4eb6-aa76-103438f13a1e"
      },
      "execution_count": null,
      "outputs": [
        {
          "output_type": "stream",
          "name": "stdout",
          "text": [
            "곰돌찡 20입니다.\n",
            "곰돌찡은 운동과 운동을 좋아합니다.\n",
            "곰돌찡은 1991년생이며, 남자입니다\n",
            "토끼찡은 핑크색과 노란색을 좋아합니다.\n"
          ]
        }
      ]
    },
    {
      "cell_type": "code",
      "source": [
        "print(\"곰돌찡은 잘생겼고\\n토끼찡은 통통이\") # \\n = 줄바꿈\n",
        "print('곰돌찡은 \\\"존잘\\\"입니다') # \\\"\" = string 취급으로써가 아닌 직접인용처럼 문장 내에서 특정 단어 \"\" 표시\n",
        "print(\"Red Apple\\rPine\") #??"
      ],
      "metadata": {
        "colab": {
          "base_uri": "https://localhost:8080/"
        },
        "id": "brNswcAc2lIo",
        "outputId": "faee040c-649b-4b1d-880b-b387e9e3e148"
      },
      "execution_count": null,
      "outputs": [
        {
          "output_type": "stream",
          "name": "stdout",
          "text": [
            "곰돌찡은 잘생겼고\n",
            "토끼찡은 통통이\n",
            "곰돌찡은 \"존잘\"입니다\n",
            "Red Apple\rPine\n"
          ]
        }
      ]
    },
    {
      "cell_type": "code",
      "source": [
        "# 퀴즈 # ex) https://daum.net\n",
        "\n",
        "site = \"https://daum.net\"\n",
        "# print(str(site[8:11] + len(site[8:-4]) + site.count(\"e\") + \"!\"))\n",
        "\n",
        "pw = site.replace(\"https://\", \"\")\n",
        "pw = pw[:pw.index(\".\")]\n",
        "pw = pw[:3] + str(len(pw)) + str(pw.count(\"e\")) + \"!\"\n",
        "print(pw)"
      ],
      "metadata": {
        "colab": {
          "base_uri": "https://localhost:8080/"
        },
        "id": "vG1AJHpk4Y5e",
        "outputId": "6a84dd56-a519-4aa2-a345-3f9899d4298b"
      },
      "execution_count": null,
      "outputs": [
        {
          "output_type": "stream",
          "name": "stdout",
          "text": [
            "dau40!\n"
          ]
        }
      ]
    },
    {
      "cell_type": "code",
      "source": [
        "sentence = \"Kong-e is so cute.\"\n",
        "\n",
        "sentence.index(\"e\")"
      ],
      "metadata": {
        "colab": {
          "base_uri": "https://localhost:8080/"
        },
        "id": "9Izu4lTD2FTj",
        "outputId": "292a8212-e7da-46dc-d7fa-f4def66a1487"
      },
      "execution_count": null,
      "outputs": [
        {
          "output_type": "execute_result",
          "data": {
            "text/plain": [
              "5"
            ]
          },
          "metadata": {},
          "execution_count": 3
        }
      ]
    },
    {
      "cell_type": "code",
      "source": [
        "website = \"https://crossasia.com\"\n",
        "\n",
        "pw = website.replace(\"https://\", \"\")\n",
        "pw = pw[:pw.index(\".\")]\n",
        "pw = pw[:3] + str(len(pw)) + str(pw.count(\"e\")) + \"!\"\n",
        "print(pw)\n"
      ],
      "metadata": {
        "colab": {
          "base_uri": "https://localhost:8080/"
        },
        "id": "XiM-8o3y2Xgw",
        "outputId": "b316d45d-4599-4a64-ae8a-edd0e3425fd8"
      },
      "execution_count": null,
      "outputs": [
        {
          "output_type": "stream",
          "name": "stdout",
          "text": [
            "cro90!\n"
          ]
        }
      ]
    },
    {
      "cell_type": "code",
      "source": [
        "bellevue = [\"곰돌찡\", \"토끼찡\", \"바부찡\", \"잠탱잉\"]\n",
        "\n",
        "bellevue.append(\"배고파워니\")\n",
        "bellevue\n",
        "\n",
        "bellevue.insert(2, \"잠탱찡\")\n",
        "bellevue\n",
        "\n",
        "bellevue.pop() # < 이 경우 pop 당한 맨 뒤에 사람이 누군지 빠져나옴\n",
        "bellevue\n",
        "\n",
        "bellevue.append(\"곰돌찡\")\n",
        "bellevue\n",
        "bellevue.count(\"곰돌찡\")\n",
        "\n",
        "bellevue # ['곰돌찡', '토끼찡', '잠탱찡', '바부찡', '잠탱잉', '곰돌찡'] 결과 나옴\n",
        "bellevue.sort()\n",
        "print(bellevue) # 한글은 ㄱ, ㄴ, ㄷ, ㄹ 순서대로 정렬되나보네 ['곰돌찡', '곰돌찡', '바부찡', '잠탱잉', '잠탱찡', '토끼찡']\n",
        "\n",
        "bellevue.reverse() # ['토끼찡', '잠탱찡', '잠탱잉', '바부찡', '곰돌찡', '곰돌찡']\n",
        "bellevue\n",
        "\n",
        "bellevue.clear()\n",
        "bellevue\n",
        "\n",
        "bellevue_mix = [1, 3, 6, \"a\", \"j\", \"f\", \"토끼찡\", \"잠탱잉\"]\n",
        "print(bellevue_mix)\n",
        "\n",
        "# bellevue_mix.sort() # str, int 가 섞여있는 리스트끼리는 sort 불가능\n",
        "\n",
        "bellevue.extend(bellevue_mix)\n",
        "print(bellevue)"
      ],
      "metadata": {
        "colab": {
          "base_uri": "https://localhost:8080/"
        },
        "id": "HwdQM59O3Nxv",
        "outputId": "11456c67-b4f2-4555-fb4f-7317883d7e1e"
      },
      "execution_count": null,
      "outputs": [
        {
          "output_type": "stream",
          "name": "stdout",
          "text": [
            "['곰돌찡', '곰돌찡', '바부찡', '잠탱잉', '잠탱찡', '토끼찡']\n",
            "[1, 3, 6, 'a', 'j', 'f', '토끼찡', '잠탱잉']\n",
            "[1, 3, 6, 'a', 'j', 'f', '토끼찡', '잠탱잉']\n"
          ]
        }
      ]
    },
    {
      "cell_type": "code",
      "source": [
        "# 파이썬의 사전은 목욕탕의 '키(keys) - 락커(values)' 조합과 같다\n",
        "# 사전 = {} / 리스트 = []\n",
        "\n",
        "dic = {\"곰돌찡\":1, \"토끼찡\":3}\n",
        "print(dic.get(1)) # 여기서 dic.get() or dic[] 안에 넣는 값은 위에서 :를 기준으로 왼쪽에 있는 str/int\n",
        "\n",
        "dic.get(\"토끼찡\")\n",
        "\n",
        "dic[5] = \"바부찡\" # < 사전에 추가 (key와 value 조합을 정의)\n",
        "print(dic)\n",
        "dic.get(5)\n",
        "\n",
        "del dic[5] # < 사전에서 삭제 w/key 입력\n",
        "print(dic)\n",
        "\n",
        "dic[\"바부찡\"] = 5\n",
        "print(dic)\n",
        "\n",
        "print(dic.keys())\n",
        "print(dic.values())\n",
        "print(dic.items()) # < 해당 사전의 'key + value' 모두 출력\n",
        "\n",
        "dic.clear() # < 사전 비우기\n",
        "print(dic)"
      ],
      "metadata": {
        "id": "ZskmIAJS4_R4",
        "colab": {
          "base_uri": "https://localhost:8080/"
        },
        "outputId": "14343d29-7ec0-4a22-bd74-262f1e8916d2"
      },
      "execution_count": null,
      "outputs": [
        {
          "output_type": "stream",
          "name": "stdout",
          "text": [
            "None\n",
            "{'곰돌찡': 1, '토끼찡': 3, 5: '바부찡'}\n",
            "{'곰돌찡': 1, '토끼찡': 3}\n",
            "{'곰돌찡': 1, '토끼찡': 3, '바부찡': 5}\n",
            "dict_keys(['곰돌찡', '토끼찡', '바부찡'])\n",
            "dict_values([1, 3, 5])\n",
            "dict_items([('곰돌찡', 1), ('토끼찡', 3), ('바부찡', 5)])\n",
            "{}\n"
          ]
        }
      ]
    },
    {
      "cell_type": "code",
      "source": [
        "# 튜플: 변경되지 않는 목록 w/()\n",
        "\n",
        "bellevue = (\"곰돌찡\", \"토끼찡\", \"잠탱찡\")\n",
        "print(bellevue[2])\n",
        "\n",
        "(나이, 취미, 성별) = (\"34\", \"독서\", \"남자\")\n",
        "print(나이, 취미, 성별)\n",
        "\n",
        "# 집합(set): 중복 x, 순서 존재 x w/{}\n",
        "\n",
        "# 교집합: '& / 'intersection()'\n",
        "# 합집합: '|'(or) / union()'\n",
        "# 차집합: '-' / 'difference()'\n",
        "\n",
        "bellevue = {\"곰돌찡\", \"토끼찡\"}\n",
        "tennis = set([\"토끼찡\", \"잠탱찡\", \"바부찡\"])\n",
        "\n",
        "# print(bellevue & tennis)\n",
        "# print(bellevue | tennis)\n",
        "# print(bellevue - tennis)\n",
        "\n",
        "# print(bellevue.intersection(tennis))\n",
        "# print(bellevue.union(tennis))\n",
        "# print(bellevue.difference(tennis))\n",
        "\n",
        "tennis.add(\"변태찡\")\n",
        "print(tennis)\n",
        "\n",
        "tennis.remove(\"잠탱찡\")\n",
        "print(tennis)"
      ],
      "metadata": {
        "colab": {
          "base_uri": "https://localhost:8080/"
        },
        "id": "rwa-VpVjqLIT",
        "outputId": "bfff6f44-61a7-4b6e-f276-dd97852c5f79"
      },
      "execution_count": null,
      "outputs": [
        {
          "output_type": "stream",
          "name": "stdout",
          "text": [
            "잠탱찡\n",
            "34 독서 남자\n",
            "{'잠탱찡', '변태찡', '바부찡', '토끼찡'}\n",
            "{'변태찡', '바부찡', '토끼찡'}\n"
          ]
        }
      ]
    },
    {
      "cell_type": "code",
      "source": [
        "bellevue = (\"곰돌찡\", \"토끼찡\", \"바부찡\")\n",
        "type(bellevue)\n",
        "\n",
        "bellevue = list(bellevue)\n",
        "print(bellevue, type(bellevue))\n",
        "\n",
        "bellevue = set(bellevue)\n",
        "type(bellevue)"
      ],
      "metadata": {
        "colab": {
          "base_uri": "https://localhost:8080/"
        },
        "id": "wqzKUj1W72zX",
        "outputId": "f74ffa86-9f42-435d-8495-ab594e6569d1"
      },
      "execution_count": null,
      "outputs": [
        {
          "output_type": "stream",
          "name": "stdout",
          "text": [
            "['곰돌찡', '토끼찡', '바부찡'] <class 'list'>\n"
          ]
        },
        {
          "output_type": "execute_result",
          "data": {
            "text/plain": [
              "set"
            ]
          },
          "metadata": {},
          "execution_count": 5
        }
      ]
    },
    {
      "cell_type": "code",
      "source": [
        "# 퀴즈\n",
        "\n",
        "# from random import *\n",
        "\n",
        "# list = [1,2,3,4,5,6,7,8,9,10,11,12,13,14,15,16,17,18,19,20]\n",
        "\n",
        "# shuffle(list)\n",
        "# print(list)\n",
        "\n",
        "# print(sample(list, 1))\n",
        "# print(sample(list, 3))"
      ],
      "metadata": {
        "colab": {
          "base_uri": "https://localhost:8080/"
        },
        "id": "c6nOSnSV8ZKA",
        "outputId": "58c3d17f-64e2-48ef-dd29-5d48bb64ee0f"
      },
      "execution_count": null,
      "outputs": [
        {
          "output_type": "stream",
          "name": "stdout",
          "text": [
            "[8, 5, 10, 3, 18, 17, 1, 14, 11, 2, 15, 13, 9, 20, 6, 16, 12, 7, 19, 4]\n",
            "[1]\n",
            "[4, 6, 19]\n",
            "range(1, 21)\n"
          ]
        }
      ]
    },
    {
      "cell_type": "code",
      "source": [
        "from random import *\n",
        "users = range(1, 21)\n",
        "type(users)\n",
        "\n",
        "users = list(users)\n",
        "print(users)\n"
      ],
      "metadata": {
        "colab": {
          "base_uri": "https://localhost:8080/",
          "height": 198
        },
        "id": "en02n2TV9rQs",
        "outputId": "a1e5ace0-057d-4e2e-a9fb-b84152c9129e"
      },
      "execution_count": null,
      "outputs": [
        {
          "output_type": "error",
          "ename": "TypeError",
          "evalue": "'list' object is not callable",
          "traceback": [
            "\u001b[0;31m---------------------------------------------------------------------------\u001b[0m",
            "\u001b[0;31mTypeError\u001b[0m                                 Traceback (most recent call last)",
            "\u001b[0;32m<ipython-input-52-751b97e7265a>\u001b[0m in \u001b[0;36m<cell line: 5>\u001b[0;34m()\u001b[0m\n\u001b[1;32m      3\u001b[0m \u001b[0mtype\u001b[0m\u001b[0;34m(\u001b[0m\u001b[0musers\u001b[0m\u001b[0;34m)\u001b[0m\u001b[0;34m\u001b[0m\u001b[0;34m\u001b[0m\u001b[0m\n\u001b[1;32m      4\u001b[0m \u001b[0;34m\u001b[0m\u001b[0m\n\u001b[0;32m----> 5\u001b[0;31m \u001b[0musers\u001b[0m \u001b[0;34m=\u001b[0m \u001b[0mlist\u001b[0m\u001b[0;34m(\u001b[0m\u001b[0musers\u001b[0m\u001b[0;34m)\u001b[0m\u001b[0;34m\u001b[0m\u001b[0;34m\u001b[0m\u001b[0m\n\u001b[0m\u001b[1;32m      6\u001b[0m \u001b[0mprint\u001b[0m\u001b[0;34m(\u001b[0m\u001b[0musers\u001b[0m\u001b[0;34m)\u001b[0m\u001b[0;34m\u001b[0m\u001b[0;34m\u001b[0m\u001b[0m\n",
            "\u001b[0;31mTypeError\u001b[0m: 'list' object is not callable"
          ]
        }
      ]
    },
    {
      "cell_type": "code",
      "source": [
        "from random import *\n",
        "zzingusers = range(1, 21)\n",
        "# print(type(zzingusers))\n",
        "\n",
        "zzingusers = list(zzingusers)\n",
        "# zzingusers\n",
        "# type(zzingusers)\n",
        "\n",
        "# print(zzingusers)\n",
        "shuffle(zzingusers)\n",
        "print(zzingusers)\n",
        "\n",
        "sample(zzingusers, 4)\n",
        "\n",
        "print(\"-- 당첨자 발표 --\")\n",
        "print(\"피자 당첨자 : {0}\".format(zzingusers[0]))\n",
        "print(\"콜라 당첨자 : {0}\".format(zzingusers[1:4]))\n",
        "print(\"-- 축하합니다 --\")"
      ],
      "metadata": {
        "colab": {
          "base_uri": "https://localhost:8080/"
        },
        "id": "1YjStk4OuSgd",
        "outputId": "b1e88ac7-5fbb-453d-f3f9-82ee588c80d2"
      },
      "execution_count": null,
      "outputs": [
        {
          "output_type": "stream",
          "name": "stdout",
          "text": [
            "[12, 10, 3, 6, 11, 14, 13, 5, 15, 2, 4, 7, 18, 20, 1, 8, 16, 17, 9, 19]\n",
            "-- 당첨자 발표 --\n",
            "피자 당첨자 : 12\n",
            "콜라 당첨자 : [10, 3, 6]\n",
            "-- 축하합니다 --\n"
          ]
        }
      ]
    },
    {
      "cell_type": "code",
      "source": [
        "# 분기?(if) : if (or, and 등으로 조건을 여러 개 추가할 수 있음) > elif(두 번째 조건) > (이 사이에 elif를 더 추가 가능) > else(그 외)\n",
        "\n",
        "# zzing = int(input(\"오늘 몇 시간 잤어요? \"))\n",
        "# if zzing >= 9:\n",
        "#   print(\"잠탱잉\")\n",
        "# elif zzing < 9 and zzing >= 6:\n",
        "#   print(\"건강잉\")\n",
        "# elif zzing < 6:\n",
        "#   print(\"힝\")\n",
        "\n",
        "miete = int(input(\"베를린 렌트 얼마예요? \"))\n",
        "if miete > 1000:\n",
        "  print(\"비싸\")\n",
        "elif miete <= 1000 and miete >= 600:\n",
        "  print(\"괜춘\")\n",
        "elif miete < 600:\n",
        "  print(\"굿굿\")\n"
      ],
      "metadata": {
        "colab": {
          "base_uri": "https://localhost:8080/"
        },
        "id": "mHNvUyUFNcR8",
        "outputId": "6ef13155-0ecc-4558-acad-6f2124f07578"
      },
      "execution_count": null,
      "outputs": [
        {
          "output_type": "stream",
          "name": "stdout",
          "text": [
            "베를린 렌트 얼마예요? 1000\n",
            "괜춘\n"
          ]
        }
      ]
    },
    {
      "cell_type": "code",
      "source": [
        "# for: 반복문 > for A in [] : A 안에 특정 list([]로 직접 입력 or 정의)가 들어간다\n",
        "\n",
        "bellevue = [\"곰돌찡\", \"토끼찡\", \"바부찡\", \"잠탱찡\"]\n",
        "\n",
        "for bank in bellevue:\n",
        "  print(\"{0}님, 창구로 와주십시오.\".format(bank))\n",
        "\n",
        "for pickup in range(1, 100):\n",
        "  print(\"customer {0}, ready for your order\".format(pickup))"
      ],
      "metadata": {
        "colab": {
          "base_uri": "https://localhost:8080/"
        },
        "id": "MirxkKx7ck7d",
        "outputId": "62b6996e-040d-4f91-b436-4e9006ea180a",
        "collapsed": true
      },
      "execution_count": null,
      "outputs": [
        {
          "output_type": "stream",
          "name": "stdout",
          "text": [
            "곰돌찡님, 창구로 와주십시오.\n",
            "토끼찡님, 창구로 와주십시오.\n",
            "바부찡님, 창구로 와주십시오.\n",
            "잠탱찡님, 창구로 와주십시오.\n",
            "customer 1, ready for your order\n",
            "customer 2, ready for your order\n",
            "customer 3, ready for your order\n",
            "customer 4, ready for your order\n",
            "customer 5, ready for your order\n",
            "customer 6, ready for your order\n",
            "customer 7, ready for your order\n",
            "customer 8, ready for your order\n",
            "customer 9, ready for your order\n",
            "customer 10, ready for your order\n",
            "customer 11, ready for your order\n",
            "customer 12, ready for your order\n",
            "customer 13, ready for your order\n",
            "customer 14, ready for your order\n",
            "customer 15, ready for your order\n",
            "customer 16, ready for your order\n",
            "customer 17, ready for your order\n",
            "customer 18, ready for your order\n",
            "customer 19, ready for your order\n",
            "customer 20, ready for your order\n",
            "customer 21, ready for your order\n",
            "customer 22, ready for your order\n",
            "customer 23, ready for your order\n",
            "customer 24, ready for your order\n",
            "customer 25, ready for your order\n",
            "customer 26, ready for your order\n",
            "customer 27, ready for your order\n",
            "customer 28, ready for your order\n",
            "customer 29, ready for your order\n",
            "customer 30, ready for your order\n",
            "customer 31, ready for your order\n",
            "customer 32, ready for your order\n",
            "customer 33, ready for your order\n",
            "customer 34, ready for your order\n",
            "customer 35, ready for your order\n",
            "customer 36, ready for your order\n",
            "customer 37, ready for your order\n",
            "customer 38, ready for your order\n",
            "customer 39, ready for your order\n",
            "customer 40, ready for your order\n",
            "customer 41, ready for your order\n",
            "customer 42, ready for your order\n",
            "customer 43, ready for your order\n",
            "customer 44, ready for your order\n",
            "customer 45, ready for your order\n",
            "customer 46, ready for your order\n",
            "customer 47, ready for your order\n",
            "customer 48, ready for your order\n",
            "customer 49, ready for your order\n",
            "customer 50, ready for your order\n",
            "customer 51, ready for your order\n",
            "customer 52, ready for your order\n",
            "customer 53, ready for your order\n",
            "customer 54, ready for your order\n",
            "customer 55, ready for your order\n",
            "customer 56, ready for your order\n",
            "customer 57, ready for your order\n",
            "customer 58, ready for your order\n",
            "customer 59, ready for your order\n",
            "customer 60, ready for your order\n",
            "customer 61, ready for your order\n",
            "customer 62, ready for your order\n",
            "customer 63, ready for your order\n",
            "customer 64, ready for your order\n",
            "customer 65, ready for your order\n",
            "customer 66, ready for your order\n",
            "customer 67, ready for your order\n",
            "customer 68, ready for your order\n",
            "customer 69, ready for your order\n",
            "customer 70, ready for your order\n",
            "customer 71, ready for your order\n",
            "customer 72, ready for your order\n",
            "customer 73, ready for your order\n",
            "customer 74, ready for your order\n",
            "customer 75, ready for your order\n",
            "customer 76, ready for your order\n",
            "customer 77, ready for your order\n",
            "customer 78, ready for your order\n",
            "customer 79, ready for your order\n",
            "customer 80, ready for your order\n",
            "customer 81, ready for your order\n",
            "customer 82, ready for your order\n",
            "customer 83, ready for your order\n",
            "customer 84, ready for your order\n",
            "customer 85, ready for your order\n",
            "customer 86, ready for your order\n",
            "customer 87, ready for your order\n",
            "customer 88, ready for your order\n",
            "customer 89, ready for your order\n",
            "customer 90, ready for your order\n",
            "customer 91, ready for your order\n",
            "customer 92, ready for your order\n",
            "customer 93, ready for your order\n",
            "customer 94, ready for your order\n",
            "customer 95, ready for your order\n",
            "customer 96, ready for your order\n",
            "customer 97, ready for your order\n",
            "customer 98, ready for your order\n",
            "customer 99, ready for your order\n"
          ]
        }
      ]
    },
    {
      "cell_type": "code",
      "source": [
        "# while: 특정 조건을 만족할 때까지 반복\n",
        "# index = x (x번 반복한다는 뜻)\n",
        "\n",
        "bank = \"곰돌찡\"\n",
        "index = 5\n",
        "while index >= 1:\n",
        "  print(\"{0}님, 창구로 와주십시오. 호출 {1}번 남았습니다.\".format(bank, index))\n",
        "  index -= 1 # index를 1씩 뺀다\n",
        "  if index == 0: # '==' = become의 의미인가? index가 0이 된다면?\n",
        "    print(\"{0}님, 예약번호를 다시 뽑아주십시오.\".format(bank))\n",
        "\n",
        "# bank = \"곰돌찡\"\n",
        "# index = 1\n",
        "# while True:\n",
        "#   print(\"{0}님, 창구로 와주십시오. 호출 {1}회\". format(bank, index))\n",
        "#   index += 1 # index 1씩 더함\n",
        "#   if index == 5:\n",
        "#     print(\"{0}님, 예약 번호를 다시 뽑아주십시오.\".format(bank))\n",
        "\n",
        "bank = \"토끼찡\"\n",
        "person = \"unknown\"\n",
        "while person != bank: # person이 bank(곰돌찡)이 아닐 때 이하를 반복\n",
        "  print(\"{0}님, 창구로 와주세요\".format(bank))\n",
        "  person = input(\"이름이 어떻게 되세요? \")\n"
      ],
      "metadata": {
        "colab": {
          "base_uri": "https://localhost:8080/"
        },
        "id": "SP7GoaGCdZQN",
        "outputId": "e8611d31-dd52-40f9-c394-e476b1ce2b22"
      },
      "execution_count": null,
      "outputs": [
        {
          "name": "stdout",
          "output_type": "stream",
          "text": [
            "곰돌찡님, 창구로 와주십시오. 호출 5번 남았습니다.\n",
            "곰돌찡님, 창구로 와주십시오. 호출 4번 남았습니다.\n",
            "곰돌찡님, 창구로 와주십시오. 호출 3번 남았습니다.\n",
            "곰돌찡님, 창구로 와주십시오. 호출 2번 남았습니다.\n",
            "곰돌찡님, 창구로 와주십시오. 호출 1번 남았습니다.\n",
            "곰돌찡님, 예약번호를 다시 뽑아주십시오.\n",
            "토끼찡님, 창구로 와주세요\n",
            "이름이 어떻게 되세요? 곰돌찡\n",
            "토끼찡님, 창구로 와주세요\n",
            "이름이 어떻게 되세요? 토끼찡\n"
          ]
        }
      ]
    },
    {
      "cell_type": "code",
      "source": [
        "# continue: 무언가가 없을 때 그걸 건너뛰고 계속\n",
        "# break: continue로 반복되던 반복문을 종결\n",
        "\n",
        "absent = [2, 8, 10]\n",
        "for customer in range(1, 15):\n",
        "  if customer in absent:\n",
        "    continue"
      ],
      "metadata": {
        "id": "kYLiYcym2lVK"
      },
      "execution_count": null,
      "outputs": []
    },
    {
      "cell_type": "code",
      "source": [
        "absent = [2, 8, 10]\n",
        "for customer in range(1, 15):\n",
        "  if customer in absent:\n",
        "    continue\n",
        "  print(\"{0}\".format(customer)) # 아 이게 줄도 맞춰야 되는구나"
      ],
      "metadata": {
        "colab": {
          "base_uri": "https://localhost:8080/"
        },
        "id": "ivu9aadg4c_Q",
        "outputId": "8df34e62-1de6-448b-8a9c-ce322b3f3218"
      },
      "execution_count": null,
      "outputs": [
        {
          "output_type": "stream",
          "name": "stdout",
          "text": [
            "1\n",
            "3\n",
            "4\n",
            "5\n",
            "6\n",
            "7\n",
            "9\n",
            "11\n",
            "12\n",
            "13\n",
            "14\n"
          ]
        }
      ]
    },
    {
      "cell_type": "code",
      "source": [
        "absent = [\"곰돌찡\", \"토끼찡\"]\n",
        "no_show = [\"커핑\"]\n",
        "for customer in [\"곰돌찡\", \"토끼찡\", \"바부찡\", \"잠탱찡\", \"워니핑\", \"커핑\"]:\n",
        "  if customer in absent:\n",
        "    continue\n",
        "  elif customer in no_show:\n",
        "    print(\"오늘 영업을 종료합니다. {0}님은 1주일 동안 예약 불가능입니다.\".format(customer))\n",
        "    break\n",
        "  print(\"{0}님, 창구로 와주십시오\".format(customer)) # 아 이게 줄도 맞춰야 되는구나"
      ],
      "metadata": {
        "colab": {
          "base_uri": "https://localhost:8080/"
        },
        "id": "FSMRGIMw4-Rk",
        "outputId": "c6866004-d5ae-4a73-ab93-f5beec226d94"
      },
      "execution_count": null,
      "outputs": [
        {
          "output_type": "stream",
          "name": "stdout",
          "text": [
            "바부찡님, 창구로 와주십시오\n",
            "잠탱찡님, 창구로 와주십시오\n",
            "워니핑님, 창구로 와주십시오\n",
            "오늘 영업을 종료합니다. 커핑님은 1주일 동안 예약 불가능입니다.\n"
          ]
        }
      ]
    },
    {
      "cell_type": "code",
      "source": [
        "bellevue = [\"곰돌찡\", \"토끼찡\", \"바부찡\", \"잠탱찡\"]\n",
        "bellevue = [i+ \"님\" for i in bellevue] # 왜 str인데 i로 취급이 될까? list라서?\n",
        "print(bellevue)\n",
        "\n",
        "bellevue = [\"곰돌찡\", \"토끼찡\", \"바부찡\", \"잠탱찡\"]\n",
        "bellevue = [i+ \"님\" for i in bellevue]\n",
        "bellevue = [len(i) for i in bellevue]\n",
        "print(bellevue)"
      ],
      "metadata": {
        "colab": {
          "base_uri": "https://localhost:8080/"
        },
        "id": "qX8YPrEkgAbh",
        "outputId": "ff1889cc-55e9-4c49-9e8d-c2a9bce6a871"
      },
      "execution_count": 1,
      "outputs": [
        {
          "output_type": "stream",
          "name": "stdout",
          "text": [
            "['곰돌찡님', '토끼찡님', '바부찡님', '잠탱찡님']\n",
            "[4, 4, 4, 4]\n"
          ]
        }
      ]
    },
    {
      "cell_type": "code",
      "source": [
        "from random import *\n",
        "\n",
        "ride_customer = range(1, 51)\n",
        "ride_time = randint(5, 50)\n",
        "cnt = 0 # 매칭 성공 이전 카운트 0부터 시작한다는 의미\n",
        "for ride_customer in range(1, 51):\n",
        "  ride_time = randint(5, 50) # 아하 그냥 여기서 for를 두 줄 쓸 필요 없이 ride_time은 for 없이 정의하면 되는구나\n",
        "  if ride_time > 5 and ride_time <= 15:\n",
        "    print(\"[O] {0}번째 손님 (소요시간 : {1}분)\".format(ride_customer, ride_time)) # 허얼 format 두개 쓰려면 {0}, {1}, {2} ・・・ 순으로 쓰는거구나..\n",
        "    cnt += 1 # 매칭 성공시 카운트 1 증가\n",
        "  elif ride_time < 5 or ride_time > 15:\n",
        "    print(\"[ ] {0}번째 손님 (소요시간 : {1}분)\".format(ride_customer, ride_time))\n",
        "\n",
        "print(\"총 탑승 승객 : {0}분\".format(cnt))"
      ],
      "metadata": {
        "colab": {
          "base_uri": "https://localhost:8080/"
        },
        "id": "fcCtdLNi1Lez",
        "outputId": "ae2b5519-12ab-4b72-fd66-2cbdf8957bde"
      },
      "execution_count": 9,
      "outputs": [
        {
          "output_type": "stream",
          "name": "stdout",
          "text": [
            "[ ] 1번째 손님 (소요시간 : 38분)\n",
            "[ ] 2번째 손님 (소요시간 : 23분)\n",
            "[O] 3번째 손님 (소요시간 : 12분)\n",
            "[ ] 4번째 손님 (소요시간 : 22분)\n",
            "[ ] 5번째 손님 (소요시간 : 23분)\n",
            "[ ] 6번째 손님 (소요시간 : 38분)\n",
            "[ ] 7번째 손님 (소요시간 : 43분)\n",
            "[ ] 8번째 손님 (소요시간 : 31분)\n",
            "[ ] 9번째 손님 (소요시간 : 18분)\n",
            "[ ] 10번째 손님 (소요시간 : 41분)\n",
            "[ ] 11번째 손님 (소요시간 : 36분)\n",
            "[ ] 12번째 손님 (소요시간 : 32분)\n",
            "[O] 13번째 손님 (소요시간 : 10분)\n",
            "[ ] 14번째 손님 (소요시간 : 28분)\n",
            "[O] 15번째 손님 (소요시간 : 13분)\n",
            "[ ] 16번째 손님 (소요시간 : 31분)\n",
            "[O] 17번째 손님 (소요시간 : 8분)\n",
            "[ ] 18번째 손님 (소요시간 : 16분)\n",
            "[ ] 19번째 손님 (소요시간 : 25분)\n",
            "[ ] 20번째 손님 (소요시간 : 17분)\n",
            "[ ] 21번째 손님 (소요시간 : 32분)\n",
            "[ ] 22번째 손님 (소요시간 : 43분)\n",
            "[O] 23번째 손님 (소요시간 : 13분)\n",
            "[ ] 24번째 손님 (소요시간 : 43분)\n",
            "[ ] 25번째 손님 (소요시간 : 18분)\n",
            "[O] 26번째 손님 (소요시간 : 6분)\n",
            "[ ] 27번째 손님 (소요시간 : 20분)\n",
            "[ ] 28번째 손님 (소요시간 : 28분)\n",
            "[O] 30번째 손님 (소요시간 : 10분)\n",
            "[O] 31번째 손님 (소요시간 : 10분)\n",
            "[ ] 32번째 손님 (소요시간 : 43분)\n",
            "[O] 33번째 손님 (소요시간 : 14분)\n",
            "[ ] 34번째 손님 (소요시간 : 47분)\n",
            "[ ] 35번째 손님 (소요시간 : 42분)\n",
            "[ ] 36번째 손님 (소요시간 : 47분)\n",
            "[ ] 37번째 손님 (소요시간 : 30분)\n",
            "[ ] 38번째 손님 (소요시간 : 42분)\n",
            "[ ] 39번째 손님 (소요시간 : 43분)\n",
            "[ ] 40번째 손님 (소요시간 : 19분)\n",
            "[ ] 41번째 손님 (소요시간 : 43분)\n",
            "[ ] 42번째 손님 (소요시간 : 20분)\n",
            "[ ] 43번째 손님 (소요시간 : 36분)\n",
            "[ ] 44번째 손님 (소요시간 : 42분)\n",
            "[ ] 45번째 손님 (소요시간 : 23분)\n",
            "[ ] 46번째 손님 (소요시간 : 45분)\n",
            "[ ] 47번째 손님 (소요시간 : 20분)\n",
            "[ ] 48번째 손님 (소요시간 : 29분)\n",
            "[O] 49번째 손님 (소요시간 : 6분)\n",
            "[ ] 50번째 손님 (소요시간 : 46분)\n",
            "총 탑승 승객 : 10분\n"
          ]
        }
      ]
    },
    {
      "cell_type": "code",
      "source": [],
      "metadata": {
        "id": "uom-15LO4fAR"
      },
      "execution_count": null,
      "outputs": []
    }
  ]
}