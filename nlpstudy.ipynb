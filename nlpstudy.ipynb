{
  "nbformat": 4,
  "nbformat_minor": 0,
  "metadata": {
    "colab": {
      "provenance": [],
      "authorship_tag": "ABX9TyMXMO9PqLAN4SHv0GaujvHX",
      "include_colab_link": true
    },
    "kernelspec": {
      "name": "python3",
      "display_name": "Python 3"
    },
    "language_info": {
      "name": "python"
    }
  },
  "cells": [
    {
      "cell_type": "markdown",
      "metadata": {
        "id": "view-in-github",
        "colab_type": "text"
      },
      "source": [
        "<a href=\"https://colab.research.google.com/github/catinthearchive/nlp/blob/main/nlpstudy.ipynb\" target=\"_parent\"><img src=\"https://colab.research.google.com/assets/colab-badge.svg\" alt=\"Open In Colab\"/></a>"
      ]
    },
    {
      "cell_type": "code",
      "execution_count": null,
      "metadata": {
        "id": "wQpafPrzZ7pn",
        "colab": {
          "base_uri": "https://localhost:8080/"
        },
        "outputId": "e58d85c9-09a2-470b-c9a9-8b39cb828de2"
      },
      "outputs": [
        {
          "output_type": "stream",
          "name": "stdout",
          "text": [
            "8\n",
            "['kitchen', 'bathroom', 'livingroom', 'bedroom']\n"
          ]
        },
        {
          "output_type": "execute_result",
          "data": {
            "text/plain": [
              "bool"
            ]
          },
          "metadata": {},
          "execution_count": 8
        }
      ],
      "source": [
        "# 샵은 메모기능, 파이썬에서는 각 type이 서로 다른 기능을 가짐\n",
        "# type 복습\n",
        "print (3 + 5)\n",
        "\n",
        "# list 하나 만들어볼까?\n",
        "house = [\"kitchen\", \"bathroom\", \"livingroom\", \"bedroom\"]\n",
        "print(house)\n",
        "\n",
        "jaerong=130\n",
        "type(jaerong)\n",
        "\n",
        "type(jaerong>150)"
      ]
    },
    {
      "cell_type": "code",
      "source": [
        "house = [\"kitchen\", 1, \"bathroom\", 2, \"livingroom\", 3, \"bedroom\", 4]\n",
        "print(house[2], house[4])\n",
        "\n",
        "house_1 = house[:]\n",
        "house[3]=\"toilet\"\n",
        "\n",
        "print(house_1)"
      ],
      "metadata": {
        "colab": {
          "base_uri": "https://localhost:8080/"
        },
        "id": "T68fA63p-ELu",
        "outputId": "71d9a317-63d0-4424-c34f-0313ffe190cf"
      },
      "execution_count": null,
      "outputs": [
        {
          "output_type": "stream",
          "name": "stdout",
          "text": [
            "bathroom livingroom\n",
            "['kitchen', 1, 'bathroom', 2, 'livingroom', 3, 'bedroom', 4]\n"
          ]
        }
      ]
    },
    {
      "cell_type": "code",
      "source": [
        "# Create lists first and second\n",
        "first = [11.25, 18.0, 20.0]\n",
        "second = [10.75, 9.50]\n",
        "\n",
        "# Paste together first and second: full\n",
        "full = first + second\n",
        "\n",
        "reverse = True\n",
        "sorted(full, reverse = reverse)\n"
      ],
      "metadata": {
        "colab": {
          "base_uri": "https://localhost:8080/"
        },
        "id": "Q8ShaQv25tTW",
        "outputId": "30226bf6-4a64-465c-9fd9-43bf1867b847"
      },
      "execution_count": null,
      "outputs": [
        {
          "output_type": "execute_result",
          "data": {
            "text/plain": [
              "[20.0, 18.0, 11.25, 10.75, 9.5]"
            ]
          },
          "metadata": {},
          "execution_count": 5
        }
      ]
    },
    {
      "cell_type": "code",
      "source": [
        "# Create lists first and second\n",
        "first = [11.25, 18.0, 20.0]\n",
        "second = [10.75, 9.50]\n",
        "\n",
        "# Paste together first and second: full\n",
        "full = first + second\n",
        "\n",
        "full.reverse()\n",
        "\n",
        "print(full)\n"
      ],
      "metadata": {
        "colab": {
          "base_uri": "https://localhost:8080/"
        },
        "id": "uhENCSh2RO0j",
        "outputId": "10107b18-ac37-4aaa-d676-0f1a5de0262e"
      },
      "execution_count": null,
      "outputs": [
        {
          "output_type": "stream",
          "name": "stdout",
          "text": [
            "[9.5, 10.75, 20.0, 18.0, 11.25]\n"
          ]
        }
      ]
    },
    {
      "cell_type": "code",
      "source": [
        "# string to experiment with: place\n",
        "place = \"poolhouse\"\n",
        "\n",
        "# Use upper() on place\n",
        "place_up = place.upper()\n",
        "\n",
        "# Print out place and place_up\n",
        "print(place)\n",
        "print(place_up)"
      ],
      "metadata": {
        "colab": {
          "base_uri": "https://localhost:8080/"
        },
        "id": "yjE4RhkYPH6a",
        "outputId": "ce0218e8-f922-4fc6-ac94-d9b1af5d89fb"
      },
      "execution_count": null,
      "outputs": [
        {
          "output_type": "stream",
          "name": "stdout",
          "text": [
            "poolhouse\n",
            "POOLHOUSE\n"
          ]
        }
      ]
    },
    {
      "cell_type": "code",
      "source": [
        "import math\n",
        "\n",
        "C = 2 * 0.43 * math.pi\n",
        "\n",
        "print(C)"
      ],
      "metadata": {
        "colab": {
          "base_uri": "https://localhost:8080/"
        },
        "id": "eHDeyD4tUwpN",
        "outputId": "5fc5f176-0fd9-4378-faf0-fdd121731eb0"
      },
      "execution_count": null,
      "outputs": [
        {
          "output_type": "stream",
          "name": "stdout",
          "text": [
            "2.701769682087222\n"
          ]
        }
      ]
    },
    {
      "cell_type": "code",
      "source": [
        "from math import pi as cv\n",
        "\n",
        "C = 2 * 0.43 * cv\n",
        "\n",
        "print(C)"
      ],
      "metadata": {
        "colab": {
          "base_uri": "https://localhost:8080/"
        },
        "id": "OsQrVixCVRyj",
        "outputId": "1416283f-75ab-499d-e86a-0f4dd9b031b1"
      },
      "execution_count": null,
      "outputs": [
        {
          "output_type": "stream",
          "name": "stdout",
          "text": [
            "2.701769682087222\n"
          ]
        }
      ]
    },
    {
      "cell_type": "code",
      "source": [
        "import numpy as np\n",
        "\n",
        "family = np.array([[163.2, 158.4, 158.4, 169.5],\n",
        "                   [63, 51, 63, 57]])\n",
        "\n",
        "\n",
        "np.mean(family)"
      ],
      "metadata": {
        "colab": {
          "base_uri": "https://localhost:8080/"
        },
        "id": "ZH8rZtO8nPl2",
        "outputId": "2c1cab3e-2dab-44f3-8ec8-3617aa7fc371"
      },
      "execution_count": null,
      "outputs": [
        {
          "output_type": "execute_result",
          "data": {
            "text/plain": [
              "110.4375"
            ]
          },
          "metadata": {},
          "execution_count": 20
        }
      ]
    },
    {
      "cell_type": "code",
      "source": [],
      "metadata": {
        "id": "Y4wgWbA1T0Wp"
      },
      "execution_count": null,
      "outputs": []
    },
    {
      "cell_type": "code",
      "source": [
        "import numpy as np\n",
        "\n",
        "family = np.array([[163.2, 158.4, 158.4, 169.5],\n",
        "                   [63, 51, 63, 57]])\n",
        "\n",
        "np.mean(family[0,:], family[1,:]) < # 이렇게 하면 안됨\n",
        "\n",
        "\n",
        "np.mean(family[0,:]), np.mean(family[1,:])"
      ],
      "metadata": {
        "colab": {
          "base_uri": "https://localhost:8080/",
          "height": 108
        },
        "id": "g5FZKThJsYRX",
        "outputId": "f668fc8e-c47d-4fe6-cbfe-f4b91973115f"
      },
      "execution_count": null,
      "outputs": [
        {
          "output_type": "error",
          "ename": "SyntaxError",
          "evalue": "invalid syntax (<ipython-input-37-8f11bd539eed>, line 7)",
          "traceback": [
            "\u001b[0;36m  File \u001b[0;32m\"<ipython-input-37-8f11bd539eed>\"\u001b[0;36m, line \u001b[0;32m7\u001b[0m\n\u001b[0;31m    np.mean(family[0,:], family[1,:]) < # 이렇게 하면 안됨\u001b[0m\n\u001b[0m                                        ^\u001b[0m\n\u001b[0;31mSyntaxError\u001b[0m\u001b[0;31m:\u001b[0m invalid syntax\n"
          ]
        }
      ]
    },
    {
      "cell_type": "code",
      "source": [
        "import numpy as np\n",
        "\n",
        "family = np.array([[163.2, 158.4, 158.4, 169.5],\n",
        "                   [63, 51, 63, 57]])\n",
        "\n",
        "np.mean(family[0,:]), np.mean(family[1,:])"
      ],
      "metadata": {
        "id": "jz6r6g9itdS-",
        "outputId": "0ade2bc1-1dab-44cc-bacc-fa291dd702f7",
        "colab": {
          "base_uri": "https://localhost:8080/"
        }
      },
      "execution_count": null,
      "outputs": [
        {
          "output_type": "execute_result",
          "data": {
            "text/plain": [
              "(162.375, 58.5)"
            ]
          },
          "metadata": {},
          "execution_count": 38
        }
      ]
    },
    {
      "cell_type": "code",
      "source": [
        "# function: 파이썬 내 있는 built-in functions ex)print(), type(), len(), max()\n",
        "# methods: 각 type에 따라 쓸 수 있는 기능들 ex)list의 index > 리스트이름.index 처럼 '해당 타입.method' 형식 > methods에는 뒤에 '()' 붙이자\n",
        "\n",
        "text = \"Today was a good day.\"\n",
        "\n",
        "from textblob import TextBlob\n",
        "\n",
        "my_valence = TextBlob(text)\n",
        "my_valence.sentiment\n"
      ],
      "metadata": {
        "colab": {
          "base_uri": "https://localhost:8080/"
        },
        "id": "RcwxtWDIT4VV",
        "outputId": "5606d161-1c17-42de-829c-740f184ac2d5"
      },
      "execution_count": 3,
      "outputs": [
        {
          "output_type": "execute_result",
          "data": {
            "text/plain": [
              "Sentiment(polarity=0.7, subjectivity=0.6000000000000001)"
            ]
          },
          "metadata": {},
          "execution_count": 3
        }
      ]
    },
    {
      "cell_type": "code",
      "source": [
        "text = 'The general structure of the new Penal Code will be taken from European legislation, while having regard for Japanese circumstances and customs. The foundation of the Penal Code shall follow French law, also considering the Penal Codes of other countries.'\n",
        "\n",
        "from textblob import TextBlob\n",
        "\n",
        "my_valence = TextBlob(text)\n",
        "my_valence.sentiment"
      ],
      "metadata": {
        "colab": {
          "base_uri": "https://localhost:8080/"
        },
        "id": "xoLL8zNOhm4A",
        "outputId": "0e513912-81b5-49fc-d0a0-7c238760e196"
      },
      "execution_count": 11,
      "outputs": [
        {
          "output_type": "execute_result",
          "data": {
            "text/plain": [
              "Sentiment(polarity=0.010227272727272729, subjectivity=0.2215909090909091)"
            ]
          },
          "metadata": {},
          "execution_count": 11
        }
      ]
    },
    {
      "cell_type": "code",
      "source": [
        "from wordcloud import WordCloud\n",
        "import matplotlib.pyplot as plt\n",
        "\n",
        "?WordCloud\n",
        "\n",
        "penal = ''\n"
      ],
      "metadata": {
        "id": "g5Xkxa4Rcq7s"
      },
      "execution_count": 9,
      "outputs": []
    }
  ]
}