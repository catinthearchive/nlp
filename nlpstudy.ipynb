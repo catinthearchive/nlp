{
  "nbformat": 4,
  "nbformat_minor": 0,
  "metadata": {
    "colab": {
      "provenance": [],
      "authorship_tag": "ABX9TyOn5Z6duPlAUnaYJ9PDfnXX",
      "include_colab_link": true
    },
    "kernelspec": {
      "name": "python3",
      "display_name": "Python 3"
    },
    "language_info": {
      "name": "python"
    }
  },
  "cells": [
    {
      "cell_type": "markdown",
      "metadata": {
        "id": "view-in-github",
        "colab_type": "text"
      },
      "source": [
        "<a href=\"https://colab.research.google.com/github/catinthearchive/nlp/blob/main/nlpstudy.ipynb\" target=\"_parent\"><img src=\"https://colab.research.google.com/assets/colab-badge.svg\" alt=\"Open In Colab\"/></a>"
      ]
    },
    {
      "cell_type": "code",
      "execution_count": null,
      "metadata": {
        "id": "wQpafPrzZ7pn",
        "colab": {
          "base_uri": "https://localhost:8080/"
        },
        "outputId": "e58d85c9-09a2-470b-c9a9-8b39cb828de2"
      },
      "outputs": [
        {
          "output_type": "stream",
          "name": "stdout",
          "text": [
            "8\n",
            "['kitchen', 'bathroom', 'livingroom', 'bedroom']\n"
          ]
        },
        {
          "output_type": "execute_result",
          "data": {
            "text/plain": [
              "bool"
            ]
          },
          "metadata": {},
          "execution_count": 8
        }
      ],
      "source": [
        "# 샵은 메모기능, 파이썬에서는 각 type이 서로 다른 기능을 가짐\n",
        "# type 복습\n",
        "print (3 + 5)\n",
        "\n",
        "# list 하나 만들어볼까?\n",
        "house = [\"kitchen\", \"bathroom\", \"livingroom\", \"bedroom\"]\n",
        "print(house)\n",
        "\n",
        "jaerong=130\n",
        "type(jaerong)\n",
        "\n",
        "type(jaerong>150)"
      ]
    },
    {
      "cell_type": "code",
      "source": [
        "house = [\"kitchen\", 1, \"bathroom\", 2, \"livingroom\", 3, \"bedroom\", 4]\n",
        "print(house[2], house[4])\n",
        "\n",
        "house_1 = house[:]\n",
        "house[3]=\"toilet\"\n",
        "\n",
        "print(house_1)"
      ],
      "metadata": {
        "colab": {
          "base_uri": "https://localhost:8080/"
        },
        "id": "T68fA63p-ELu",
        "outputId": "71d9a317-63d0-4424-c34f-0313ffe190cf"
      },
      "execution_count": 10,
      "outputs": [
        {
          "output_type": "stream",
          "name": "stdout",
          "text": [
            "bathroom livingroom\n",
            "['kitchen', 1, 'bathroom', 2, 'livingroom', 3, 'bedroom', 4]\n"
          ]
        }
      ]
    }
  ]
}